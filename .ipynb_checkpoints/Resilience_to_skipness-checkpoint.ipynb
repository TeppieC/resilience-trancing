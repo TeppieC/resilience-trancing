{
 "cells": [
  {
   "cell_type": "code",
   "execution_count": 1,
   "metadata": {},
   "outputs": [],
   "source": [
    "import numpy as np\n",
    "import pandas as pd\n",
    "from datetime import date, datetime\n",
    "import matplotlib.pyplot as plt\n",
    "import seaborn as sns\n",
    "from sklearn.model_selection import train_test_split,KFold, cross_val_score\n",
    "from sklearn import metrics\n",
    "from sklearn.metrics import roc_auc_score\n",
    "import pickle\n",
    "from scipy import stats\n",
    "import pylab\n",
    "from sklearn.linear_model import LogisticRegression\n",
    "\n",
    "from scipy.stats import t, ttest_ind, ttest_ind_from_stats, norm\n",
    "from scipy.special import stdtr\n",
    "import statsmodels.api as sm"
   ]
  },
  {
   "cell_type": "code",
   "execution_count": 27,
   "metadata": {},
   "outputs": [],
   "source": [
    "df_label = pd.read_csv('Competition Training Set/anonymized_dataset_for_ADM2017/training_label.csv')\n",
    "#df_train_full = pd.read_csv('Released Full Dataset/anonymized_full_release_competition_dataset.csv')"
   ]
  },
  {
   "cell_type": "code",
   "execution_count": 28,
   "metadata": {},
   "outputs": [],
   "source": [
    "with open('hmm_res_model_new.pickle','rb') as f:\n",
    "    df_hmm = pickle.load(f)\n",
    "with open('rule_res_model.pickle','rb') as f:\n",
    "    df_rule = pickle.load(f)"
   ]
  },
  {
   "cell_type": "code",
   "execution_count": 29,
   "metadata": {},
   "outputs": [
    {
     "data": {
      "text/plain": [
       "154515"
      ]
     },
     "execution_count": 29,
     "metadata": {},
     "output_type": "execute_result"
    }
   ],
   "source": [
    "len(df_hmm)"
   ]
  },
  {
   "cell_type": "code",
   "execution_count": 30,
   "metadata": {},
   "outputs": [
    {
     "data": {
      "text/plain": [
       "154515"
      ]
     },
     "execution_count": 30,
     "metadata": {},
     "output_type": "execute_result"
    }
   ],
   "source": [
    "len(df_rule)"
   ]
  },
  {
   "cell_type": "code",
   "execution_count": 31,
   "metadata": {},
   "outputs": [],
   "source": [
    "ids_with_gts = set(df_hmm['ITEST_id']).intersection(set(df_label['ITEST_id']))"
   ]
  },
  {
   "cell_type": "code",
   "execution_count": 32,
   "metadata": {
    "scrolled": true
   },
   "outputs": [
    {
     "data": {
      "text/plain": [
       "141"
      ]
     },
     "execution_count": 32,
     "metadata": {},
     "output_type": "execute_result"
    }
   ],
   "source": [
    "len(ids_with_gts)"
   ]
  },
  {
   "cell_type": "code",
   "execution_count": 33,
   "metadata": {},
   "outputs": [],
   "source": [
    "df_label = df_label.loc[df_label.ITEST_id.isin(ids_with_gts)]"
   ]
  },
  {
   "cell_type": "code",
   "execution_count": 34,
   "metadata": {},
   "outputs": [
    {
     "name": "stdout",
     "output_type": "stream",
     "text": [
      "duplicated rows exist\n"
     ]
    }
   ],
   "source": [
    "if len(df_label[df_label.duplicated(['ITEST_id'])]):\n",
    "    print('duplicated rows exist') "
   ]
  },
  {
   "cell_type": "code",
   "execution_count": 35,
   "metadata": {},
   "outputs": [],
   "source": [
    "df_label = df_label.drop_duplicates().set_index('ITEST_id')"
   ]
  },
  {
   "cell_type": "code",
   "execution_count": 36,
   "metadata": {},
   "outputs": [
    {
     "data": {
      "text/html": [
       "<div>\n",
       "<style scoped>\n",
       "    .dataframe tbody tr th:only-of-type {\n",
       "        vertical-align: middle;\n",
       "    }\n",
       "\n",
       "    .dataframe tbody tr th {\n",
       "        vertical-align: top;\n",
       "    }\n",
       "\n",
       "    .dataframe thead th {\n",
       "        text-align: right;\n",
       "    }\n",
       "</style>\n",
       "<table border=\"1\" class=\"dataframe\">\n",
       "  <thead>\n",
       "    <tr style=\"text-align: right;\">\n",
       "      <th></th>\n",
       "      <th>SchoolId</th>\n",
       "      <th>AveCorrect</th>\n",
       "      <th>MCAS</th>\n",
       "      <th>isSTEM</th>\n",
       "    </tr>\n",
       "    <tr>\n",
       "      <th>ITEST_id</th>\n",
       "      <th></th>\n",
       "      <th></th>\n",
       "      <th></th>\n",
       "      <th></th>\n",
       "    </tr>\n",
       "  </thead>\n",
       "  <tbody>\n",
       "    <tr>\n",
       "      <th>37</th>\n",
       "      <td>3</td>\n",
       "      <td>0.305785</td>\n",
       "      <td>-999</td>\n",
       "      <td>0</td>\n",
       "    </tr>\n",
       "    <tr>\n",
       "      <th>240</th>\n",
       "      <td>4</td>\n",
       "      <td>0.316476</td>\n",
       "      <td>16</td>\n",
       "      <td>1</td>\n",
       "    </tr>\n",
       "    <tr>\n",
       "      <th>283</th>\n",
       "      <td>2</td>\n",
       "      <td>0.309661</td>\n",
       "      <td>11</td>\n",
       "      <td>0</td>\n",
       "    </tr>\n",
       "    <tr>\n",
       "      <th>360</th>\n",
       "      <td>2</td>\n",
       "      <td>0.327911</td>\n",
       "      <td>16</td>\n",
       "      <td>0</td>\n",
       "    </tr>\n",
       "    <tr>\n",
       "      <th>387</th>\n",
       "      <td>1</td>\n",
       "      <td>0.294964</td>\n",
       "      <td>20</td>\n",
       "      <td>0</td>\n",
       "    </tr>\n",
       "  </tbody>\n",
       "</table>\n",
       "</div>"
      ],
      "text/plain": [
       "          SchoolId  AveCorrect  MCAS  isSTEM\n",
       "ITEST_id                                    \n",
       "37               3    0.305785  -999       0\n",
       "240              4    0.316476    16       1\n",
       "283              2    0.309661    11       0\n",
       "360              2    0.327911    16       0\n",
       "387              1    0.294964    20       0"
      ]
     },
     "execution_count": 36,
     "metadata": {},
     "output_type": "execute_result"
    }
   ],
   "source": [
    "df_label.head()"
   ]
  },
  {
   "cell_type": "code",
   "execution_count": 37,
   "metadata": {},
   "outputs": [],
   "source": [
    "df_rule = df_rule.set_index('index').drop('level_0',axis=1)\n",
    "df_rule = df_rule.loc[df_rule.ITEST_id.isin(ids_with_gts)]\n",
    "df_rule['label'] = np.zeros(len(df_rule))\n",
    "for i,row in df_rule.iterrows():\n",
    "    sid = row.ITEST_id\n",
    "    df_rule.at[i,'label'] = df_label.loc[sid,'isSTEM']"
   ]
  },
  {
   "cell_type": "code",
   "execution_count": 38,
   "metadata": {},
   "outputs": [],
   "source": [
    "#df_rule.to_csv('output2.csv')"
   ]
  },
  {
   "cell_type": "code",
   "execution_count": 39,
   "metadata": {},
   "outputs": [],
   "source": [
    "#df_hmm = df_hmm.set_index('index').drop('level_0',axis=1)\n",
    "df_hmm = df_hmm.set_index('index')\n",
    "df_hmm = df_hmm.loc[df_hmm.ITEST_id.isin(ids_with_gts)]\n",
    "df_hmm['label'] = np.zeros(len(df_hmm))\n",
    "for i,row in df_hmm.iterrows():\n",
    "    sid = row.ITEST_id\n",
    "    df_hmm.at[i,'label'] = df_label.loc[sid,'isSTEM']"
   ]
  },
  {
   "cell_type": "markdown",
   "metadata": {},
   "source": [
    "## Balance labels"
   ]
  },
  {
   "cell_type": "code",
   "execution_count": 40,
   "metadata": {
    "scrolled": true
   },
   "outputs": [
    {
     "data": {
      "text/plain": [
       "<matplotlib.axes._subplots.AxesSubplot at 0x1c23b03978>"
      ]
     },
     "execution_count": 40,
     "metadata": {},
     "output_type": "execute_result"
    },
    {
     "data": {
      "image/png": "[encoded data removed]",
      "text/plain": [
       "<Figure size 432x288 with 1 Axes>"
      ]
     },
     "metadata": {},
     "output_type": "display_data"
    }
   ],
   "source": [
    "sns.set(style=\"darkgrid\")\n",
    "sns.countplot(x=\"skip\", data=df_hmm)"
   ]
  },
  {
   "cell_type": "code",
   "execution_count": 44,
   "metadata": {},
   "outputs": [
    {
     "data": {
      "text/plain": [
       "1.0    3150\n",
       "0.0    3150\n",
       "Name: skip, dtype: int64"
      ]
     },
     "execution_count": 44,
     "metadata": {},
     "output_type": "execute_result"
    }
   ],
   "source": [
    "from sklearn.utils import resample\n",
    "df_hmm.loc[:,'skip'].value_counts()"
   ]
  },
  {
   "cell_type": "code",
   "execution_count": 60,
   "metadata": {},
   "outputs": [
    {
     "ename": "AttributeError",
     "evalue": "'DataFrame' object has no attribute 'skip'",
     "output_type": "error",
     "traceback": [
      "\u001b[0;31m---------------------------------------------------------------------------\u001b[0m",
      "\u001b[0;31mAttributeError\u001b[0m                            Traceback (most recent call last)",
      "\u001b[0;32m<ipython-input-60-79131448cef2>\u001b[0m in \u001b[0;36m<module>\u001b[0;34m\u001b[0m\n\u001b[1;32m      1\u001b[0m \u001b[0;31m# Separate majority and minority classes\u001b[0m\u001b[0;34m\u001b[0m\u001b[0;34m\u001b[0m\u001b[0;34m\u001b[0m\u001b[0m\n\u001b[0;32m----> 2\u001b[0;31m \u001b[0mstem\u001b[0m \u001b[0;34m=\u001b[0m \u001b[0mdf_rule\u001b[0m\u001b[0;34m[\u001b[0m\u001b[0mdf_rule\u001b[0m\u001b[0;34m.\u001b[0m\u001b[0mskip\u001b[0m\u001b[0;34m==\u001b[0m\u001b[0;36m1\u001b[0m\u001b[0;34m]\u001b[0m\u001b[0;34m\u001b[0m\u001b[0;34m\u001b[0m\u001b[0m\n\u001b[0m\u001b[1;32m      3\u001b[0m \u001b[0mnon_stem\u001b[0m \u001b[0;34m=\u001b[0m \u001b[0mdf_rule\u001b[0m\u001b[0;34m[\u001b[0m\u001b[0mdf_rule\u001b[0m\u001b[0;34m.\u001b[0m\u001b[0mskip\u001b[0m\u001b[0;34m==\u001b[0m\u001b[0;36m0\u001b[0m\u001b[0;34m]\u001b[0m\u001b[0;34m\u001b[0m\u001b[0;34m\u001b[0m\u001b[0m\n\u001b[1;32m      4\u001b[0m \u001b[0;34m\u001b[0m\u001b[0m\n\u001b[1;32m      5\u001b[0m \u001b[0;31m# Downsample majority class\u001b[0m\u001b[0;34m\u001b[0m\u001b[0;34m\u001b[0m\u001b[0;34m\u001b[0m\u001b[0m\n",
      "\u001b[0;32m/anaconda3/envs/analysis/lib/python3.7/site-packages/pandas/core/generic.py\u001b[0m in \u001b[0;36m__getattr__\u001b[0;34m(self, name)\u001b[0m\n\u001b[1;32m   4374\u001b[0m             \u001b[0;32mif\u001b[0m \u001b[0mself\u001b[0m\u001b[0;34m.\u001b[0m\u001b[0m_info_axis\u001b[0m\u001b[0;34m.\u001b[0m\u001b[0m_can_hold_identifiers_and_holds_name\u001b[0m\u001b[0;34m(\u001b[0m\u001b[0mname\u001b[0m\u001b[0;34m)\u001b[0m\u001b[0;34m:\u001b[0m\u001b[0;34m\u001b[0m\u001b[0;34m\u001b[0m\u001b[0m\n\u001b[1;32m   4375\u001b[0m                 \u001b[0;32mreturn\u001b[0m \u001b[0mself\u001b[0m\u001b[0;34m[\u001b[0m\u001b[0mname\u001b[0m\u001b[0;34m]\u001b[0m\u001b[0;34m\u001b[0m\u001b[0;34m\u001b[0m\u001b[0m\n\u001b[0;32m-> 4376\u001b[0;31m             \u001b[0;32mreturn\u001b[0m \u001b[0mobject\u001b[0m\u001b[0;34m.\u001b[0m\u001b[0m__getattribute__\u001b[0m\u001b[0;34m(\u001b[0m\u001b[0mself\u001b[0m\u001b[0;34m,\u001b[0m \u001b[0mname\u001b[0m\u001b[0;34m)\u001b[0m\u001b[0;34m\u001b[0m\u001b[0;34m\u001b[0m\u001b[0m\n\u001b[0m\u001b[1;32m   4377\u001b[0m \u001b[0;34m\u001b[0m\u001b[0m\n\u001b[1;32m   4378\u001b[0m     \u001b[0;32mdef\u001b[0m \u001b[0m__setattr__\u001b[0m\u001b[0;34m(\u001b[0m\u001b[0mself\u001b[0m\u001b[0;34m,\u001b[0m \u001b[0mname\u001b[0m\u001b[0;34m,\u001b[0m \u001b[0mvalue\u001b[0m\u001b[0;34m)\u001b[0m\u001b[0;34m:\u001b[0m\u001b[0;34m\u001b[0m\u001b[0;34m\u001b[0m\u001b[0m\n",
      "\u001b[0;31mAttributeError\u001b[0m: 'DataFrame' object has no attribute 'skip'"
     ]
    }
   ],
   "source": [
    "# Separate majority and minority classes\n",
    "stem = df_rule[df_rule.skip==1]\n",
    "non_stem = df_rule[df_rule.skip==0]\n",
    "\n",
    "# Downsample majority class\n",
    "non_stem_downsampled = resample(non_stem, \n",
    "                                 replace=False,    # sample without replacement\n",
    "                                 n_samples=len(stem),     # to match minority class\n",
    "                                 random_state=123) # reproducible results\n",
    " \n",
    "# Combine minority class with downsampled majority class\n",
    "df_rule = pd.concat([non_stem_downsampled, stem])\n",
    " \n",
    "# Display new class counts\n",
    "df_rule.skip.value_counts()"
   ]
  },
  {
   "cell_type": "code",
   "execution_count": 45,
   "metadata": {},
   "outputs": [
    {
     "data": {
      "text/plain": [
       "1.0    3150\n",
       "0.0    3150\n",
       "Name: skip, dtype: int64"
      ]
     },
     "execution_count": 45,
     "metadata": {},
     "output_type": "execute_result"
    }
   ],
   "source": [
    "# Separate majority and minority classes\n",
    "stem = df_hmm[df_hmm.skip==1]\n",
    "non_stem = df_hmm[df_hmm.skip==0]\n",
    "\n",
    "# Downsample majority class\n",
    "non_stem_downsampled = resample(non_stem, \n",
    "                                 replace=False,    # sample without replacement\n",
    "                                 n_samples=len(stem),     # to match minority class\n",
    "                                 random_state=123) # reproducible results\n",
    " \n",
    "# Combine minority class with downsampled majority class\n",
    "df_hmm = pd.concat([non_stem_downsampled, stem])\n",
    " \n",
    "# Display new class counts\n",
    "df_hmm.skip.value_counts()"
   ]
  },
  {
   "cell_type": "code",
   "execution_count": 34,
   "metadata": {},
   "outputs": [],
   "source": [
    "skills = df_rule.skill.unique()"
   ]
  },
  {
   "cell_type": "code",
   "execution_count": 35,
   "metadata": {},
   "outputs": [],
   "source": [
    "df_rule['skill'] = df_rule.skill.map({skills[i]:i for i in range(len(skills))})"
   ]
  },
  {
   "cell_type": "code",
   "execution_count": 46,
   "metadata": {},
   "outputs": [],
   "source": [
    "skills = df_hmm.skill.unique()"
   ]
  },
  {
   "cell_type": "code",
   "execution_count": 47,
   "metadata": {},
   "outputs": [],
   "source": [
    "df_hmm['skill'] = df_hmm.skill.map({skills[i]:i for i in range(len(skills))})"
   ]
  },
  {
   "cell_type": "markdown",
   "metadata": {},
   "source": [
    "# Part A: rule based model"
   ]
  },
  {
   "cell_type": "code",
   "execution_count": 11,
   "metadata": {
    "scrolled": true
   },
   "outputs": [
    {
     "data": {
      "text/html": [
       "<div>\n",
       "<style scoped>\n",
       "    .dataframe tbody tr th:only-of-type {\n",
       "        vertical-align: middle;\n",
       "    }\n",
       "\n",
       "    .dataframe tbody tr th {\n",
       "        vertical-align: top;\n",
       "    }\n",
       "\n",
       "    .dataframe thead th {\n",
       "        text-align: right;\n",
       "    }\n",
       "</style>\n",
       "<table border=\"1\" class=\"dataframe\">\n",
       "  <thead>\n",
       "    <tr style=\"text-align: right;\">\n",
       "      <th></th>\n",
       "      <th>ITEST_id</th>\n",
       "      <th>AveCorrect</th>\n",
       "      <th>skill</th>\n",
       "      <th>problemId</th>\n",
       "      <th>attemptCount</th>\n",
       "      <th>correct</th>\n",
       "      <th>consecutiveErrorsInRow</th>\n",
       "      <th>hint</th>\n",
       "      <th>hintCount</th>\n",
       "      <th>hintTotal</th>\n",
       "      <th>frIsHelpRequest</th>\n",
       "      <th>totalFrPercentPastWrong</th>\n",
       "      <th>frPast5WrongCount</th>\n",
       "      <th>frPast8WrongCount</th>\n",
       "      <th>RES_FRUSTRATED</th>\n",
       "      <th>res_level</th>\n",
       "      <th>label</th>\n",
       "    </tr>\n",
       "    <tr>\n",
       "      <th>index</th>\n",
       "      <th></th>\n",
       "      <th></th>\n",
       "      <th></th>\n",
       "      <th></th>\n",
       "      <th></th>\n",
       "      <th></th>\n",
       "      <th></th>\n",
       "      <th></th>\n",
       "      <th></th>\n",
       "      <th></th>\n",
       "      <th></th>\n",
       "      <th></th>\n",
       "      <th></th>\n",
       "      <th></th>\n",
       "      <th></th>\n",
       "      <th></th>\n",
       "      <th></th>\n",
       "    </tr>\n",
       "  </thead>\n",
       "  <tbody>\n",
       "    <tr>\n",
       "      <th>10833</th>\n",
       "      <td>283</td>\n",
       "      <td>0.309661</td>\n",
       "      <td>properties-of-geometric-figures</td>\n",
       "      <td>104051222</td>\n",
       "      <td>1</td>\n",
       "      <td>1</td>\n",
       "      <td>0</td>\n",
       "      <td>0</td>\n",
       "      <td>0</td>\n",
       "      <td>0</td>\n",
       "      <td>1</td>\n",
       "      <td>0.333333</td>\n",
       "      <td>1</td>\n",
       "      <td>1</td>\n",
       "      <td>0.009561</td>\n",
       "      <td>0</td>\n",
       "      <td>0.0</td>\n",
       "    </tr>\n",
       "    <tr>\n",
       "      <th>10842</th>\n",
       "      <td>283</td>\n",
       "      <td>0.309661</td>\n",
       "      <td>interpreting-linear-equations</td>\n",
       "      <td>104051078</td>\n",
       "      <td>1</td>\n",
       "      <td>0</td>\n",
       "      <td>0</td>\n",
       "      <td>0</td>\n",
       "      <td>0</td>\n",
       "      <td>0</td>\n",
       "      <td>1</td>\n",
       "      <td>1.000000</td>\n",
       "      <td>1</td>\n",
       "      <td>1</td>\n",
       "      <td>0.000000</td>\n",
       "      <td>0</td>\n",
       "      <td>0.0</td>\n",
       "    </tr>\n",
       "    <tr>\n",
       "      <th>10843</th>\n",
       "      <td>283</td>\n",
       "      <td>0.309661</td>\n",
       "      <td>interpreting-linear-equations</td>\n",
       "      <td>104051078</td>\n",
       "      <td>2</td>\n",
       "      <td>1</td>\n",
       "      <td>0</td>\n",
       "      <td>0</td>\n",
       "      <td>0</td>\n",
       "      <td>0</td>\n",
       "      <td>0</td>\n",
       "      <td>1.000000</td>\n",
       "      <td>1</td>\n",
       "      <td>1</td>\n",
       "      <td>0.000000</td>\n",
       "      <td>0</td>\n",
       "      <td>0.0</td>\n",
       "    </tr>\n",
       "    <tr>\n",
       "      <th>10859</th>\n",
       "      <td>283</td>\n",
       "      <td>0.309661</td>\n",
       "      <td>interpreting-linear-equations</td>\n",
       "      <td>104051082</td>\n",
       "      <td>1</td>\n",
       "      <td>0</td>\n",
       "      <td>0</td>\n",
       "      <td>0</td>\n",
       "      <td>0</td>\n",
       "      <td>0</td>\n",
       "      <td>1</td>\n",
       "      <td>0.200000</td>\n",
       "      <td>1</td>\n",
       "      <td>1</td>\n",
       "      <td>0.000000</td>\n",
       "      <td>0</td>\n",
       "      <td>0.0</td>\n",
       "    </tr>\n",
       "    <tr>\n",
       "      <th>10860</th>\n",
       "      <td>283</td>\n",
       "      <td>0.309661</td>\n",
       "      <td>interpreting-linear-equations</td>\n",
       "      <td>104051082</td>\n",
       "      <td>2</td>\n",
       "      <td>1</td>\n",
       "      <td>0</td>\n",
       "      <td>0</td>\n",
       "      <td>0</td>\n",
       "      <td>0</td>\n",
       "      <td>0</td>\n",
       "      <td>0.200000</td>\n",
       "      <td>1</td>\n",
       "      <td>1</td>\n",
       "      <td>0.000000</td>\n",
       "      <td>1</td>\n",
       "      <td>0.0</td>\n",
       "    </tr>\n",
       "  </tbody>\n",
       "</table>\n",
       "</div>"
      ],
      "text/plain": [
       "       ITEST_id  AveCorrect                            skill  problemId  \\\n",
       "index                                                                     \n",
       "10833       283    0.309661  properties-of-geometric-figures  104051222   \n",
       "10842       283    0.309661    interpreting-linear-equations  104051078   \n",
       "10843       283    0.309661    interpreting-linear-equations  104051078   \n",
       "10859       283    0.309661    interpreting-linear-equations  104051082   \n",
       "10860       283    0.309661    interpreting-linear-equations  104051082   \n",
       "\n",
       "       attemptCount  correct  consecutiveErrorsInRow  hint  hintCount  \\\n",
       "index                                                                   \n",
       "10833             1        1                       0     0          0   \n",
       "10842             1        0                       0     0          0   \n",
       "10843             2        1                       0     0          0   \n",
       "10859             1        0                       0     0          0   \n",
       "10860             2        1                       0     0          0   \n",
       "\n",
       "       hintTotal  frIsHelpRequest  totalFrPercentPastWrong  frPast5WrongCount  \\\n",
       "index                                                                           \n",
       "10833          0                1                 0.333333                  1   \n",
       "10842          0                1                 1.000000                  1   \n",
       "10843          0                0                 1.000000                  1   \n",
       "10859          0                1                 0.200000                  1   \n",
       "10860          0                0                 0.200000                  1   \n",
       "\n",
       "       frPast8WrongCount  RES_FRUSTRATED  res_level  label  \n",
       "index                                                       \n",
       "10833                  1        0.009561          0    0.0  \n",
       "10842                  1        0.000000          0    0.0  \n",
       "10843                  1        0.000000          0    0.0  \n",
       "10859                  1        0.000000          0    0.0  \n",
       "10860                  1        0.000000          1    0.0  "
      ]
     },
     "execution_count": 11,
     "metadata": {},
     "output_type": "execute_result"
    }
   ],
   "source": [
    "df_rule.head()"
   ]
  },
  {
   "cell_type": "code",
   "execution_count": 16,
   "metadata": {},
   "outputs": [],
   "source": [
    "sids = df_rule.ITEST_id.unique()"
   ]
  },
  {
   "cell_type": "code",
   "execution_count": 21,
   "metadata": {},
   "outputs": [],
   "source": [
    "# a transaction level prediction\n",
    "sub_df = df_rule.loc[:,['skill','hintCount','RES_FRUSTRATED','res_level','label']]\n",
    "X = sub_df.loc[:,['skill','hintCount','RES_FRUSTRATED','res_level']] # assuming a running system\n",
    "y = sub_df['label']"
   ]
  },
  {
   "cell_type": "code",
   "execution_count": 22,
   "metadata": {
    "collapsed": true
   },
   "outputs": [
    {
     "data": {
      "text/plain": [
       "<matplotlib.axes._subplots.AxesSubplot at 0x1c2e309400>"
      ]
     },
     "execution_count": 22,
     "metadata": {},
     "output_type": "execute_result"
    },
    {
     "data": {
      "image/png": "[encoded data removed]",
      "text/plain": [
       "<Figure size 432x288 with 2 Axes>"
      ]
     },
     "metadata": {
      "needs_background": "light"
     },
     "output_type": "display_data"
    }
   ],
   "source": [
    "dims = (6, 4)\n",
    "fig, ax1 = plt.subplots(figsize=dims)\n",
    "sns.heatmap(ax=ax1, data=sub_df.corr(),annot=True, fmt = \".2f\", cmap = \"coolwarm\")"
   ]
  },
  {
   "cell_type": "code",
   "execution_count": 75,
   "metadata": {},
   "outputs": [
    {
     "name": "stdout",
     "output_type": "stream",
     "text": [
      "c=0.010000, KFold CrossValScore 0.8619949264583537\n",
      "c=0.100000, KFold CrossValScore 0.8619949264583537\n",
      "c=0.300000, KFold CrossValScore 0.8619949264583537\n",
      "c=0.500000, KFold CrossValScore 0.8619949264583537\n",
      "c=1.000000, KFold CrossValScore 0.8619949264583537\n",
      "c=2.000000, KFold CrossValScore 0.8619949264583537\n"
     ]
    }
   ],
   "source": [
    "X_train,X_test,y_train,y_test = train_test_split(X, y,test_size=0.2, shuffle=False)\n",
    "c_choices = [0.01,0.1,0.3,0.5,1,2]\n",
    "kf = KFold(n_splits=5, shuffle=False) # 5-fold cross validation\n",
    "for c in c_choices:\n",
    "    clf = LogisticRegression(random_state=21, max_iter=1000, solver='lbfgs', penalty='l2', C=c)\n",
    "    print('c=%f, KFold CrossValScore %s' % (c, cross_val_score(clf, X_train, y_train, cv=kf).mean()))"
   ]
  },
  {
   "cell_type": "code",
   "execution_count": 70,
   "metadata": {},
   "outputs": [
    {
     "name": "stdout",
     "output_type": "stream",
     "text": [
      "LogReg accuracy score 0.8590287600188591\n"
     ]
    }
   ],
   "source": [
    "logreg = LogisticRegression(random_state=21, max_iter=1000, solver='lbfgs', penalty='l2', C=0.1).fit(X_train, y_train)\n",
    "y_pred = logreg.predict(X_test)\n",
    "logreg_accuracy = metrics.accuracy_score(y_test, y_pred)\n",
    "print('LogReg accuracy score %s' % logreg_accuracy)"
   ]
  },
  {
   "cell_type": "code",
   "execution_count": 71,
   "metadata": {},
   "outputs": [],
   "source": [
    "# V.S"
   ]
  },
  {
   "cell_type": "code",
   "execution_count": 17,
   "metadata": {},
   "outputs": [],
   "source": [
    "# a transaction level prediction\n",
    "sub_df = df_rule.loc[:,['skill','hintCount','RES_FRUSTRATED','label']]\n",
    "X = sub_df.loc[:,['skill','hintCount','RES_FRUSTRATED']] # assuming a running system\n",
    "y = sub_df['label']"
   ]
  },
  {
   "cell_type": "code",
   "execution_count": 18,
   "metadata": {},
   "outputs": [
    {
     "data": {
      "text/plain": [
       "<matplotlib.axes._subplots.AxesSubplot at 0x1c2a63cbe0>"
      ]
     },
     "execution_count": 18,
     "metadata": {},
     "output_type": "execute_result"
    },
    {
     "data": {
      "image/png": "[encoded data removed]",
      "text/plain": [
       "<Figure size 432x288 with 2 Axes>"
      ]
     },
     "metadata": {
      "needs_background": "light"
     },
     "output_type": "display_data"
    }
   ],
   "source": [
    "dims = (6, 4)\n",
    "fig, ax1 = plt.subplots(figsize=dims)\n",
    "sns.heatmap(ax=ax1, data=sub_df.corr(),annot=True, fmt = \".2f\", cmap = \"coolwarm\")"
   ]
  },
  {
   "cell_type": "code",
   "execution_count": 88,
   "metadata": {},
   "outputs": [
    {
     "name": "stdout",
     "output_type": "stream",
     "text": [
      "c=0.010000, KFold CrossValScore 0.8619949264583537\n",
      "c=0.100000, KFold CrossValScore 0.8619949264583537\n",
      "c=0.300000, KFold CrossValScore 0.8619949264583537\n",
      "c=0.500000, KFold CrossValScore 0.8619949264583537\n",
      "c=1.000000, KFold CrossValScore 0.8619949264583537\n",
      "c=2.000000, KFold CrossValScore 0.8619949264583537\n"
     ]
    }
   ],
   "source": [
    "X_train,X_test,y_train,y_test = train_test_split(X, y,test_size=0.2, shuffle=False)\n",
    "c_choices = [0.01,0.1,0.3,0.5,1,2]\n",
    "kf = KFold(n_splits=5, shuffle=False) # 5-fold cross validation\n",
    "for c in c_choices:\n",
    "    clf = LogisticRegression(random_state=21, max_iter=1000, solver='lbfgs', penalty='l2', C=c)\n",
    "    print('c=%f, KFold CrossValScore %s' % (c, cross_val_score(clf, X_train, y_train, cv=kf).mean()))"
   ]
  },
  {
   "cell_type": "code",
   "execution_count": 78,
   "metadata": {
    "collapsed": true
   },
   "outputs": [
    {
     "data": {
      "text/plain": [
       "<matplotlib.axes._subplots.AxesSubplot at 0x1a3cbbb710>"
      ]
     },
     "execution_count": 78,
     "metadata": {},
     "output_type": "execute_result"
    },
    {
     "data": {
      "image/png": "[encoded data removed]",
      "text/plain": [
       "<Figure size 835.2x604.8 with 2 Axes>"
      ]
     },
     "metadata": {},
     "output_type": "display_data"
    }
   ],
   "source": [
    "dims = (11.6, 8.4)\n",
    "fig, ax1 = plt.subplots(figsize=dims)\n",
    "sns.heatmap(ax=ax1, data=sub_df.corr(),annot=True, fmt = \".2f\", cmap = \"coolwarm\")"
   ]
  },
  {
   "cell_type": "code",
   "execution_count": 73,
   "metadata": {},
   "outputs": [
    {
     "name": "stdout",
     "output_type": "stream",
     "text": [
      "LogReg accuracy score 0.8590287600188591\n"
     ]
    }
   ],
   "source": [
    "logreg = LogisticRegression(random_state=21, max_iter=1000, solver='lbfgs', penalty='l2', C=0.1).fit(X_train, y_train)\n",
    "y_pred = logreg.predict(X_test)\n",
    "logreg_accuracy = metrics.accuracy_score(y_test, y_pred)\n",
    "print('LogReg accuracy score %s' % logreg_accuracy)"
   ]
  },
  {
   "cell_type": "code",
   "execution_count": null,
   "metadata": {},
   "outputs": [],
   "source": [
    "# a running sequential prediction"
   ]
  },
  {
   "cell_type": "code",
   "execution_count": 68,
   "metadata": {},
   "outputs": [
    {
     "ename": "ValueError",
     "evalue": "This solver needs samples of at least 2 classes in the data, but the data contains only one class: 0.0",
     "output_type": "error",
     "traceback": [
      "\u001b[0;31m---------------------------------------------------------------------------\u001b[0m",
      "\u001b[0;31mValueError\u001b[0m                                Traceback (most recent call last)",
      "\u001b[0;32m<ipython-input-68-d50cd58d2950>\u001b[0m in \u001b[0;36m<module>\u001b[0;34m\u001b[0m\n\u001b[1;32m     11\u001b[0m     \u001b[0;31m#    clf = LogisticRegression(random_state=21, max_iter=1000, solver='lbfgs', penalty='l2', C=c)\u001b[0m\u001b[0;34m\u001b[0m\u001b[0;34m\u001b[0m\u001b[0;34m\u001b[0m\u001b[0m\n\u001b[1;32m     12\u001b[0m     \u001b[0;31m#    print('c=%f, KFold CrossValScore %s' % (c, cross_val_score(clf, X_train, y_train, cv=kf).mean()))\u001b[0m\u001b[0;34m\u001b[0m\u001b[0;34m\u001b[0m\u001b[0;34m\u001b[0m\u001b[0m\n\u001b[0;32m---> 13\u001b[0;31m     \u001b[0mlogreg\u001b[0m \u001b[0;34m=\u001b[0m \u001b[0mLogisticRegression\u001b[0m\u001b[0;34m(\u001b[0m\u001b[0mrandom_state\u001b[0m\u001b[0;34m=\u001b[0m\u001b[0;36m21\u001b[0m\u001b[0;34m,\u001b[0m \u001b[0mmax_iter\u001b[0m\u001b[0;34m=\u001b[0m\u001b[0;36m1000\u001b[0m\u001b[0;34m,\u001b[0m \u001b[0msolver\u001b[0m\u001b[0;34m=\u001b[0m\u001b[0;34m'lbfgs'\u001b[0m\u001b[0;34m,\u001b[0m \u001b[0mpenalty\u001b[0m\u001b[0;34m=\u001b[0m\u001b[0;34m'l2'\u001b[0m\u001b[0;34m,\u001b[0m \u001b[0mC\u001b[0m\u001b[0;34m=\u001b[0m\u001b[0;36m0.1\u001b[0m\u001b[0;34m)\u001b[0m\u001b[0;34m.\u001b[0m\u001b[0mfit\u001b[0m\u001b[0;34m(\u001b[0m\u001b[0mX_train\u001b[0m\u001b[0;34m,\u001b[0m \u001b[0my_train\u001b[0m\u001b[0;34m)\u001b[0m\u001b[0;34m\u001b[0m\u001b[0;34m\u001b[0m\u001b[0m\n\u001b[0m\u001b[1;32m     14\u001b[0m     \u001b[0my_pred\u001b[0m \u001b[0;34m=\u001b[0m \u001b[0mlogreg\u001b[0m\u001b[0;34m.\u001b[0m\u001b[0mpredict\u001b[0m\u001b[0;34m(\u001b[0m\u001b[0mX_test\u001b[0m\u001b[0;34m)\u001b[0m\u001b[0;34m\u001b[0m\u001b[0;34m\u001b[0m\u001b[0m\n\u001b[1;32m     15\u001b[0m     \u001b[0mlogreg_accuracy\u001b[0m \u001b[0;34m=\u001b[0m \u001b[0mmetrics\u001b[0m\u001b[0;34m.\u001b[0m\u001b[0maccuracy_score\u001b[0m\u001b[0;34m(\u001b[0m\u001b[0my_test\u001b[0m\u001b[0;34m,\u001b[0m \u001b[0my_pred\u001b[0m\u001b[0;34m)\u001b[0m\u001b[0;34m\u001b[0m\u001b[0;34m\u001b[0m\u001b[0m\n",
      "\u001b[0;32m/anaconda3/envs/analysis/lib/python3.7/site-packages/sklearn/linear_model/logistic.py\u001b[0m in \u001b[0;36mfit\u001b[0;34m(self, X, y, sample_weight)\u001b[0m\n\u001b[1;32m   1317\u001b[0m             raise ValueError(\"This solver needs samples of at least 2 classes\"\n\u001b[1;32m   1318\u001b[0m                              \u001b[0;34m\" in the data, but the data contains only one\"\u001b[0m\u001b[0;34m\u001b[0m\u001b[0;34m\u001b[0m\u001b[0m\n\u001b[0;32m-> 1319\u001b[0;31m                              \" class: %r\" % classes_[0])\n\u001b[0m\u001b[1;32m   1320\u001b[0m \u001b[0;34m\u001b[0m\u001b[0m\n\u001b[1;32m   1321\u001b[0m         \u001b[0;32mif\u001b[0m \u001b[0mlen\u001b[0m\u001b[0;34m(\u001b[0m\u001b[0mself\u001b[0m\u001b[0;34m.\u001b[0m\u001b[0mclasses_\u001b[0m\u001b[0;34m)\u001b[0m \u001b[0;34m==\u001b[0m \u001b[0;36m2\u001b[0m\u001b[0;34m:\u001b[0m\u001b[0;34m\u001b[0m\u001b[0;34m\u001b[0m\u001b[0m\n",
      "\u001b[0;31mValueError\u001b[0m: This solver needs samples of at least 2 classes in the data, but the data contains only one class: 0.0"
     ]
    }
   ],
   "source": [
    "for sid in sids:\n",
    "    sub_df = df_rule.loc[df_rule.ITEST_id==sid]\n",
    "    X = sub_df.loc[:,['skill','hintCount','RES_FRUSTRATED','res_level']] # assuming a running system\n",
    "    y = sub_df['label']\n",
    "    X_train,X_test,y_train,y_test = train_test_split(X, y,test_size=0.2, shuffle=False)\n",
    "    #print(X_train.head())\n",
    "    #print(y_train.head())\n",
    "    #c_choices = [0.01,0.1,0.3,0.5,1,2]\n",
    "    #kf = KFold(n_splits=5, shuffle=False) # 5-fold cross validation\n",
    "    #for c in c_choices:\n",
    "    #    clf = LogisticRegression(random_state=21, max_iter=1000, solver='lbfgs', penalty='l2', C=c)\n",
    "    #    print('c=%f, KFold CrossValScore %s' % (c, cross_val_score(clf, X_train, y_train, cv=kf).mean()))\n",
    "    logreg = LogisticRegression(random_state=21, max_iter=1000, solver='lbfgs', penalty='l2', C=0.1).fit(X_train, y_train)\n",
    "    y_pred = logreg.predict(X_test)\n",
    "    logreg_accuracy = metrics.accuracy_score(y_test, y_pred)\n",
    "    print('LogReg accuracy score %s' % logreg_accuracy)\n",
    "    "
   ]
  },
  {
   "cell_type": "code",
   "execution_count": 46,
   "metadata": {},
   "outputs": [
    {
     "data": {
      "text/plain": [
       "350"
      ]
     },
     "execution_count": 46,
     "metadata": {},
     "output_type": "execute_result"
    }
   ],
   "source": [
    "len(X_train.loc[X_train.ITEST_id==283])"
   ]
  },
  {
   "cell_type": "code",
   "execution_count": 47,
   "metadata": {},
   "outputs": [
    {
     "data": {
      "text/plain": [
       "350"
      ]
     },
     "execution_count": 47,
     "metadata": {},
     "output_type": "execute_result"
    }
   ],
   "source": [
    "len(df_rule.loc[df_rule.ITEST_id==283])"
   ]
  },
  {
   "cell_type": "code",
   "execution_count": 67,
   "metadata": {},
   "outputs": [
    {
     "data": {
      "text/plain": [
       "<matplotlib.axes._subplots.AxesSubplot at 0x1a2259d630>"
      ]
     },
     "execution_count": 67,
     "metadata": {},
     "output_type": "execute_result"
    },
    {
     "data": {
      "image/png": "[encoded data removed]",
      "text/plain": [
       "<Figure size 360x288 with 2 Axes>"
      ]
     },
     "metadata": {},
     "output_type": "display_data"
    }
   ],
   "source": [
    "a4_dims = (5, 4)\n",
    "fig, ax1 = plt.subplots(figsize=a4_dims)\n",
    "sns.heatmap(ax=ax1, data=df.corr(),annot=True, fmt = \".2f\", cmap = \"coolwarm\")"
   ]
  },
  {
   "cell_type": "code",
   "execution_count": 68,
   "metadata": {},
   "outputs": [
    {
     "name": "stdout",
     "output_type": "stream",
     "text": [
      "c=0.010000, KFold CrossValScore 0.5307692307692307\n",
      "c=0.100000, KFold CrossValScore 0.523076923076923\n",
      "c=0.300000, KFold CrossValScore 0.523076923076923\n",
      "c=0.500000, KFold CrossValScore 0.523076923076923\n",
      "c=1.000000, KFold CrossValScore 0.523076923076923\n",
      "c=2.000000, KFold CrossValScore 0.523076923076923\n"
     ]
    }
   ],
   "source": [
    "c_choices = [0.01,0.1,0.3,0.5,1,2]\n",
    "kf = KFold(n_splits=5, shuffle=False) # 5-fold cross validation\n",
    "for c in c_choices:\n",
    "    clf = LogisticRegression(random_state=21, max_iter=1000, solver='lbfgs', penalty='l2', C=c)\n",
    "    print('c=%f, KFold CrossValScore %s' % (c, cross_val_score(clf, X_train, y_train, cv=kf).mean()))\n",
    "    "
   ]
  },
  {
   "cell_type": "code",
   "execution_count": 69,
   "metadata": {},
   "outputs": [
    {
     "name": "stdout",
     "output_type": "stream",
     "text": [
      "LogReg accuracy score 0.43859649122807015\n"
     ]
    }
   ],
   "source": [
    "logreg = LogisticRegression(random_state=21, max_iter=1000, solver='lbfgs', penalty='l2', C=0.1).fit(X_train, y_train)\n",
    "y_pred = logreg.predict(X_test)\n",
    "logreg_accuracy = metrics.accuracy_score(y_test, y_pred)\n",
    "print('LogReg accuracy score %s' % logreg_accuracy)"
   ]
  },
  {
   "cell_type": "markdown",
   "metadata": {},
   "source": [
    "# Part B HMM model"
   ]
  },
  {
   "cell_type": "code",
   "execution_count": 48,
   "metadata": {
    "scrolled": false
   },
   "outputs": [
    {
     "data": {
      "text/html": [
       "<div>\n",
       "<style scoped>\n",
       "    .dataframe tbody tr th:only-of-type {\n",
       "        vertical-align: middle;\n",
       "    }\n",
       "\n",
       "    .dataframe tbody tr th {\n",
       "        vertical-align: top;\n",
       "    }\n",
       "\n",
       "    .dataframe thead th {\n",
       "        text-align: right;\n",
       "    }\n",
       "</style>\n",
       "<table border=\"1\" class=\"dataframe\">\n",
       "  <thead>\n",
       "    <tr style=\"text-align: right;\">\n",
       "      <th></th>\n",
       "      <th>ITEST_id</th>\n",
       "      <th>AveCorrect</th>\n",
       "      <th>skill</th>\n",
       "      <th>problemId</th>\n",
       "      <th>actionId</th>\n",
       "      <th>timeTaken</th>\n",
       "      <th>attemptCount</th>\n",
       "      <th>correct</th>\n",
       "      <th>consecutiveErrorsInRow</th>\n",
       "      <th>hint</th>\n",
       "      <th>...</th>\n",
       "      <th>RES_BORED</th>\n",
       "      <th>RES_CONCENTRATING</th>\n",
       "      <th>RES_CONFUSED</th>\n",
       "      <th>RES_OFFTASK</th>\n",
       "      <th>RES_GAMING</th>\n",
       "      <th>problem_difficulty</th>\n",
       "      <th>attemptDeviation</th>\n",
       "      <th>skip</th>\n",
       "      <th>hidden_res_level</th>\n",
       "      <th>label</th>\n",
       "    </tr>\n",
       "    <tr>\n",
       "      <th>index</th>\n",
       "      <th></th>\n",
       "      <th></th>\n",
       "      <th></th>\n",
       "      <th></th>\n",
       "      <th></th>\n",
       "      <th></th>\n",
       "      <th></th>\n",
       "      <th></th>\n",
       "      <th></th>\n",
       "      <th></th>\n",
       "      <th></th>\n",
       "      <th></th>\n",
       "      <th></th>\n",
       "      <th></th>\n",
       "      <th></th>\n",
       "      <th></th>\n",
       "      <th></th>\n",
       "      <th></th>\n",
       "      <th></th>\n",
       "      <th></th>\n",
       "      <th></th>\n",
       "    </tr>\n",
       "  </thead>\n",
       "  <tbody>\n",
       "    <tr>\n",
       "      <th>17699</th>\n",
       "      <td>360</td>\n",
       "      <td>0.327911</td>\n",
       "      <td>0</td>\n",
       "      <td>104050353</td>\n",
       "      <td>294668</td>\n",
       "      <td>12.0</td>\n",
       "      <td>1</td>\n",
       "      <td>1</td>\n",
       "      <td>0</td>\n",
       "      <td>0</td>\n",
       "      <td>...</td>\n",
       "      <td>0.156027</td>\n",
       "      <td>0.701753</td>\n",
       "      <td>0.0</td>\n",
       "      <td>0.122595</td>\n",
       "      <td>0.010665</td>\n",
       "      <td>0.259259</td>\n",
       "      <td>0.0</td>\n",
       "      <td>0.0</td>\n",
       "      <td>4</td>\n",
       "      <td>0.0</td>\n",
       "    </tr>\n",
       "    <tr>\n",
       "      <th>11096</th>\n",
       "      <td>1469</td>\n",
       "      <td>0.267857</td>\n",
       "      <td>1</td>\n",
       "      <td>910</td>\n",
       "      <td>1300231</td>\n",
       "      <td>87.0</td>\n",
       "      <td>1</td>\n",
       "      <td>0</td>\n",
       "      <td>0</td>\n",
       "      <td>1</td>\n",
       "      <td>...</td>\n",
       "      <td>0.376427</td>\n",
       "      <td>0.559608</td>\n",
       "      <td>0.0</td>\n",
       "      <td>0.122595</td>\n",
       "      <td>0.000018</td>\n",
       "      <td>0.428986</td>\n",
       "      <td>0.0</td>\n",
       "      <td>0.0</td>\n",
       "      <td>3</td>\n",
       "      <td>0.0</td>\n",
       "    </tr>\n",
       "    <tr>\n",
       "      <th>1507</th>\n",
       "      <td>6215</td>\n",
       "      <td>0.271065</td>\n",
       "      <td>2</td>\n",
       "      <td>2066</td>\n",
       "      <td>5094892</td>\n",
       "      <td>9.0</td>\n",
       "      <td>4</td>\n",
       "      <td>1</td>\n",
       "      <td>0</td>\n",
       "      <td>0</td>\n",
       "      <td>...</td>\n",
       "      <td>0.156027</td>\n",
       "      <td>0.898883</td>\n",
       "      <td>0.0</td>\n",
       "      <td>0.122595</td>\n",
       "      <td>0.003592</td>\n",
       "      <td>0.540793</td>\n",
       "      <td>2.0</td>\n",
       "      <td>0.0</td>\n",
       "      <td>2</td>\n",
       "      <td>0.0</td>\n",
       "    </tr>\n",
       "    <tr>\n",
       "      <th>157061</th>\n",
       "      <td>2263</td>\n",
       "      <td>0.320388</td>\n",
       "      <td>3</td>\n",
       "      <td>104051111</td>\n",
       "      <td>690042</td>\n",
       "      <td>6.0</td>\n",
       "      <td>1</td>\n",
       "      <td>0</td>\n",
       "      <td>0</td>\n",
       "      <td>0</td>\n",
       "      <td>...</td>\n",
       "      <td>0.156027</td>\n",
       "      <td>0.986054</td>\n",
       "      <td>0.0</td>\n",
       "      <td>0.048295</td>\n",
       "      <td>0.174982</td>\n",
       "      <td>0.489335</td>\n",
       "      <td>0.0</td>\n",
       "      <td>0.0</td>\n",
       "      <td>2</td>\n",
       "      <td>0.0</td>\n",
       "    </tr>\n",
       "    <tr>\n",
       "      <th>23427</th>\n",
       "      <td>473</td>\n",
       "      <td>0.204420</td>\n",
       "      <td>2</td>\n",
       "      <td>104050750</td>\n",
       "      <td>408431</td>\n",
       "      <td>3.0</td>\n",
       "      <td>5</td>\n",
       "      <td>1</td>\n",
       "      <td>0</td>\n",
       "      <td>0</td>\n",
       "      <td>...</td>\n",
       "      <td>0.156027</td>\n",
       "      <td>0.727845</td>\n",
       "      <td>0.0</td>\n",
       "      <td>0.048295</td>\n",
       "      <td>0.988209</td>\n",
       "      <td>0.544872</td>\n",
       "      <td>3.0</td>\n",
       "      <td>0.0</td>\n",
       "      <td>2</td>\n",
       "      <td>0.0</td>\n",
       "    </tr>\n",
       "  </tbody>\n",
       "</table>\n",
       "<p>5 rows × 27 columns</p>\n",
       "</div>"
      ],
      "text/plain": [
       "        ITEST_id  AveCorrect  skill  problemId  actionId  timeTaken  \\\n",
       "index                                                                 \n",
       "17699        360    0.327911      0  104050353    294668       12.0   \n",
       "11096       1469    0.267857      1        910   1300231       87.0   \n",
       "1507        6215    0.271065      2       2066   5094892        9.0   \n",
       "157061      2263    0.320388      3  104051111    690042        6.0   \n",
       "23427        473    0.204420      2  104050750    408431        3.0   \n",
       "\n",
       "        attemptCount  correct  consecutiveErrorsInRow  hint  ...    RES_BORED  \\\n",
       "index                                                        ...                \n",
       "17699              1        1                       0     0  ...     0.156027   \n",
       "11096              1        0                       0     1  ...     0.376427   \n",
       "1507               4        1                       0     0  ...     0.156027   \n",
       "157061             1        0                       0     0  ...     0.156027   \n",
       "23427              5        1                       0     0  ...     0.156027   \n",
       "\n",
       "        RES_CONCENTRATING  RES_CONFUSED  RES_OFFTASK  RES_GAMING  \\\n",
       "index                                                              \n",
       "17699            0.701753           0.0     0.122595    0.010665   \n",
       "11096            0.559608           0.0     0.122595    0.000018   \n",
       "1507             0.898883           0.0     0.122595    0.003592   \n",
       "157061           0.986054           0.0     0.048295    0.174982   \n",
       "23427            0.727845           0.0     0.048295    0.988209   \n",
       "\n",
       "        problem_difficulty  attemptDeviation  skip  hidden_res_level  label  \n",
       "index                                                                        \n",
       "17699             0.259259               0.0   0.0                 4    0.0  \n",
       "11096             0.428986               0.0   0.0                 3    0.0  \n",
       "1507              0.540793               2.0   0.0                 2    0.0  \n",
       "157061            0.489335               0.0   0.0                 2    0.0  \n",
       "23427             0.544872               3.0   0.0                 2    0.0  \n",
       "\n",
       "[5 rows x 27 columns]"
      ]
     },
     "execution_count": 48,
     "metadata": {},
     "output_type": "execute_result"
    }
   ],
   "source": [
    "df_hmm.head()"
   ]
  },
  {
   "cell_type": "code",
   "execution_count": 71,
   "metadata": {},
   "outputs": [],
   "source": [
    "# a transaction level prediction\n",
    "sub_df = df_hmm.loc[:,['hidden_res_level','skip']]\n",
    "X = sub_df.loc[:,['hidden_res_level']] # assuming a running system\n",
    "y = sub_df['skip']"
   ]
  },
  {
   "cell_type": "code",
   "execution_count": 72,
   "metadata": {
    "scrolled": false
   },
   "outputs": [
    {
     "data": {
      "text/plain": [
       "1.0    3150\n",
       "0.0    3150\n",
       "Name: skip, dtype: int64"
      ]
     },
     "execution_count": 72,
     "metadata": {},
     "output_type": "execute_result"
    }
   ],
   "source": [
    "df_hmm.skip.value_counts()"
   ]
  },
  {
   "cell_type": "code",
   "execution_count": 74,
   "metadata": {},
   "outputs": [
    {
     "name": "stdout",
     "output_type": "stream",
     "text": [
      "c=0.010000, KFold CrossValScore 0.636904761904762\n",
      "c=0.100000, KFold CrossValScore 0.636904761904762\n",
      "c=0.300000, KFold CrossValScore 0.636904761904762\n",
      "c=0.500000, KFold CrossValScore 0.636904761904762\n",
      "c=1.000000, KFold CrossValScore 0.636904761904762\n",
      "c=2.000000, KFold CrossValScore 0.636904761904762\n"
     ]
    }
   ],
   "source": [
    "X_train,X_test,y_train,y_test = train_test_split(X, y,test_size=0.2,random_state=21)#, shuffle=False)\n",
    "c_choices = [0.01,0.1,0.3,0.5,1,2]\n",
    "kf = KFold(n_splits=5, shuffle=False) # 5-fold cross validation\n",
    "for c in c_choices:\n",
    "    clf = LogisticRegression(random_state=21, max_iter=1000, solver='lbfgs', penalty='l2', C=c)\n",
    "    print('c=%f, KFold CrossValScore %s' % (c, cross_val_score(clf, X_train, y_train, cv=kf).mean()))"
   ]
  },
  {
   "cell_type": "code",
   "execution_count": 75,
   "metadata": {},
   "outputs": [
    {
     "name": "stdout",
     "output_type": "stream",
     "text": [
      "LogReg accuracy score 0.6484126984126984\n"
     ]
    }
   ],
   "source": [
    "logreg = LogisticRegression(random_state=21, max_iter=1000, solver='lbfgs', penalty='l2', C=0.1).fit(X_train, y_train)\n",
    "y_pred = logreg.predict(X_test)\n",
    "logreg_accuracy = metrics.accuracy_score(y_test, y_pred)\n",
    "print('LogReg accuracy score %s' % logreg_accuracy)"
   ]
  },
  {
   "cell_type": "code",
   "execution_count": 76,
   "metadata": {},
   "outputs": [
    {
     "name": "stdout",
     "output_type": "stream",
     "text": [
      "Optimization terminated successfully.\n",
      "         Current function value: 0.692852\n",
      "         Iterations 3\n",
      "                           Logit Regression Results                           \n",
      "==============================================================================\n",
      "Dep. Variable:                   skip   No. Observations:                 5040\n",
      "Model:                          Logit   Df Residuals:                     5039\n",
      "Method:                           MLE   Df Model:                            0\n",
      "Date:                Thu, 01 Aug 2019   Pseudo R-squ.:               0.0003606\n",
      "Time:                        14:49:09   Log-Likelihood:                -3492.0\n",
      "converged:                       True   LL-Null:                       -3493.2\n",
      "                                        LLR p-value:                       nan\n",
      "====================================================================================\n",
      "                       coef    std err          z      P>|z|      [0.025      0.975]\n",
      "------------------------------------------------------------------------------------\n",
      "hidden_res_level     0.0169      0.010      1.725      0.085      -0.002       0.036\n",
      "====================================================================================\n"
     ]
    }
   ],
   "source": [
    "logit_model=sm.Logit(y_train,X_train)\n",
    "result=logit_model.fit()\n",
    "print(result.summary())"
   ]
  },
  {
   "cell_type": "markdown",
   "metadata": {},
   "source": [
    "### v.s. with other features"
   ]
  },
  {
   "cell_type": "code",
   "execution_count": 66,
   "metadata": {},
   "outputs": [],
   "source": [
    "# a transaction level prediction\n",
    "sub_df = df_hmm.loc[:,['hidden_res_level','RES_FRUSTRATED','skip']]\n",
    "X = sub_df.loc[:,['hidden_res_level','RES_FRUSTRATED']] # assuming a running system\n",
    "y = sub_df['skip']"
   ]
  },
  {
   "cell_type": "code",
   "execution_count": 67,
   "metadata": {},
   "outputs": [
    {
     "name": "stdout",
     "output_type": "stream",
     "text": [
      "c=0.010000, KFold CrossValScore 0.4537698412698413\n",
      "c=0.100000, KFold CrossValScore 0.4722222222222222\n",
      "c=0.300000, KFold CrossValScore 0.4718253968253968\n",
      "c=0.500000, KFold CrossValScore 0.4718253968253968\n",
      "c=1.000000, KFold CrossValScore 0.4908730158730159\n",
      "c=2.000000, KFold CrossValScore 0.4908730158730159\n"
     ]
    }
   ],
   "source": [
    "X_train,X_test,y_train,y_test = train_test_split(X, y,test_size=0.2)#, shuffle=False)\n",
    "c_choices = [0.01,0.1,0.3,0.5,1,2]\n",
    "kf = KFold(n_splits=5, shuffle=False) # 5-fold cross validation\n",
    "for c in c_choices:\n",
    "    clf = LogisticRegression(random_state=21, max_iter=1000, solver='lbfgs', penalty='l2', C=c)\n",
    "    print('c=%f, KFold CrossValScore %s' % (c, cross_val_score(clf, X_train, y_train, cv=kf).mean()))"
   ]
  },
  {
   "cell_type": "code",
   "execution_count": 68,
   "metadata": {
    "scrolled": true
   },
   "outputs": [
    {
     "name": "stdout",
     "output_type": "stream",
     "text": [
      "LogReg accuracy score 0.44285714285714284\n"
     ]
    }
   ],
   "source": [
    "logreg = LogisticRegression(random_state=21, max_iter=1000, solver='lbfgs', penalty='l2', C=0.1).fit(X_train, y_train)\n",
    "y_pred = logreg.predict(X_test)\n",
    "logreg_accuracy = metrics.accuracy_score(y_test, y_pred)\n",
    "print('LogReg accuracy score %s' % logreg_accuracy)"
   ]
  },
  {
   "cell_type": "code",
   "execution_count": null,
   "metadata": {},
   "outputs": [],
   "source": [
    "# LASSO, chi-square"
   ]
  }
 ],
 "metadata": {
  "kernelspec": {
   "display_name": "Python 3",
   "language": "python",
   "name": "python3"
  },
  "language_info": {
   "codemirror_mode": {
    "name": "ipython",
    "version": 3
   },
   "file_extension": ".py",
   "mimetype": "text/x-python",
   "name": "python",
   "nbconvert_exporter": "python",
   "pygments_lexer": "ipython3",
   "version": "3.7.2"
  }
 },
 "nbformat": 4,
 "nbformat_minor": 2
}
