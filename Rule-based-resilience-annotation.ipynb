{
 "cells": [
  {
   "cell_type": "code",
   "execution_count": 1,
   "metadata": {},
   "outputs": [],
   "source": [
    "import numpy as np\n",
    "import pandas as pd\n",
    "from datetime import date, datetime\n",
    "import matplotlib.pyplot as plt\n",
    "import seaborn as sns\n",
    "from sklearn.model_selection import train_test_split,KFold, cross_val_score\n",
    "from sklearn import metrics\n",
    "from sklearn.metrics import roc_auc_score\n",
    "import pickle\n",
    "from scipy import stats\n",
    "from scipy.spatial.distance import euclidean\n",
    "import pylab"
   ]
  },
  {
   "cell_type": "code",
   "execution_count": 2,
   "metadata": {},
   "outputs": [],
   "source": [
    "with open('low_diff_log.pickle','rb') as f:\n",
    "    df = pickle.load(f)"
   ]
  },
  {
   "cell_type": "code",
   "execution_count": 3,
   "metadata": {},
   "outputs": [],
   "source": [
    "# limitation: \n",
    "# unsupervised, no ground truth, only face validity\n",
    "# vaguely defined columns\n",
    "# we assume their ability are around the same level in some cases"
   ]
  },
  {
   "cell_type": "code",
   "execution_count": 4,
   "metadata": {},
   "outputs": [],
   "source": [
    "#assume context: low ability, difficult problem\n",
    "#assume three rules\n",
    "# analyze on student-step level"
   ]
  },
  {
   "cell_type": "code",
   "execution_count": 3,
   "metadata": {},
   "outputs": [
    {
     "data": {
      "text/html": [
       "<div>\n",
       "<style scoped>\n",
       "    .dataframe tbody tr th:only-of-type {\n",
       "        vertical-align: middle;\n",
       "    }\n",
       "\n",
       "    .dataframe tbody tr th {\n",
       "        vertical-align: top;\n",
       "    }\n",
       "\n",
       "    .dataframe thead th {\n",
       "        text-align: right;\n",
       "    }\n",
       "</style>\n",
       "<table border=\"1\" class=\"dataframe\">\n",
       "  <thead>\n",
       "    <tr style=\"text-align: right;\">\n",
       "      <th></th>\n",
       "      <th>ITEST_id</th>\n",
       "      <th>AveCorrect</th>\n",
       "      <th>skill</th>\n",
       "      <th>problemId</th>\n",
       "      <th>actionId</th>\n",
       "      <th>timeTaken</th>\n",
       "      <th>attemptCount</th>\n",
       "      <th>correct</th>\n",
       "      <th>consecutiveErrorsInRow</th>\n",
       "      <th>hint</th>\n",
       "      <th>...</th>\n",
       "      <th>frIsHelpRequest</th>\n",
       "      <th>totalFrPercentPastWrong</th>\n",
       "      <th>frPast5WrongCount</th>\n",
       "      <th>frPast8WrongCount</th>\n",
       "      <th>RES_FRUSTRATED</th>\n",
       "      <th>RES_BORED</th>\n",
       "      <th>RES_CONCENTRATING</th>\n",
       "      <th>RES_CONFUSED</th>\n",
       "      <th>RES_OFFTASK</th>\n",
       "      <th>RES_GAMING</th>\n",
       "    </tr>\n",
       "  </thead>\n",
       "  <tbody>\n",
       "    <tr>\n",
       "      <th>2484</th>\n",
       "      <td>64</td>\n",
       "      <td>0.334038</td>\n",
       "      <td>pattern-finding</td>\n",
       "      <td>104051191</td>\n",
       "      <td>51609</td>\n",
       "      <td>18.0</td>\n",
       "      <td>1</td>\n",
       "      <td>1</td>\n",
       "      <td>0</td>\n",
       "      <td>0</td>\n",
       "      <td>...</td>\n",
       "      <td>1</td>\n",
       "      <td>0.0</td>\n",
       "      <td>0</td>\n",
       "      <td>0</td>\n",
       "      <td>0.009561</td>\n",
       "      <td>0.156027</td>\n",
       "      <td>0.916790</td>\n",
       "      <td>0.0</td>\n",
       "      <td>0.468252</td>\n",
       "      <td>0.002815</td>\n",
       "    </tr>\n",
       "    <tr>\n",
       "      <th>2485</th>\n",
       "      <td>64</td>\n",
       "      <td>0.334038</td>\n",
       "      <td>pattern-finding</td>\n",
       "      <td>104051192</td>\n",
       "      <td>51610</td>\n",
       "      <td>13.0</td>\n",
       "      <td>1</td>\n",
       "      <td>1</td>\n",
       "      <td>0</td>\n",
       "      <td>0</td>\n",
       "      <td>...</td>\n",
       "      <td>1</td>\n",
       "      <td>0.0</td>\n",
       "      <td>0</td>\n",
       "      <td>0</td>\n",
       "      <td>0.009561</td>\n",
       "      <td>0.156027</td>\n",
       "      <td>0.926868</td>\n",
       "      <td>0.0</td>\n",
       "      <td>0.468252</td>\n",
       "      <td>0.001483</td>\n",
       "    </tr>\n",
       "    <tr>\n",
       "      <th>2486</th>\n",
       "      <td>64</td>\n",
       "      <td>0.334038</td>\n",
       "      <td>pattern-finding</td>\n",
       "      <td>104051193</td>\n",
       "      <td>51611</td>\n",
       "      <td>12.0</td>\n",
       "      <td>1</td>\n",
       "      <td>1</td>\n",
       "      <td>0</td>\n",
       "      <td>0</td>\n",
       "      <td>...</td>\n",
       "      <td>1</td>\n",
       "      <td>0.0</td>\n",
       "      <td>0</td>\n",
       "      <td>0</td>\n",
       "      <td>0.009561</td>\n",
       "      <td>0.156027</td>\n",
       "      <td>0.937398</td>\n",
       "      <td>0.0</td>\n",
       "      <td>0.468252</td>\n",
       "      <td>0.001483</td>\n",
       "    </tr>\n",
       "    <tr>\n",
       "      <th>2487</th>\n",
       "      <td>64</td>\n",
       "      <td>0.334038</td>\n",
       "      <td>pattern-finding</td>\n",
       "      <td>104051194</td>\n",
       "      <td>51612</td>\n",
       "      <td>51.0</td>\n",
       "      <td>1</td>\n",
       "      <td>1</td>\n",
       "      <td>0</td>\n",
       "      <td>0</td>\n",
       "      <td>...</td>\n",
       "      <td>1</td>\n",
       "      <td>0.0</td>\n",
       "      <td>0</td>\n",
       "      <td>0</td>\n",
       "      <td>0.009561</td>\n",
       "      <td>0.156027</td>\n",
       "      <td>0.810068</td>\n",
       "      <td>0.0</td>\n",
       "      <td>0.149121</td>\n",
       "      <td>0.001483</td>\n",
       "    </tr>\n",
       "    <tr>\n",
       "      <th>2496</th>\n",
       "      <td>64</td>\n",
       "      <td>0.334038</td>\n",
       "      <td>pattern-finding</td>\n",
       "      <td>104051191</td>\n",
       "      <td>51621</td>\n",
       "      <td>49.0</td>\n",
       "      <td>2</td>\n",
       "      <td>1</td>\n",
       "      <td>0</td>\n",
       "      <td>0</td>\n",
       "      <td>...</td>\n",
       "      <td>0</td>\n",
       "      <td>0.0</td>\n",
       "      <td>0</td>\n",
       "      <td>0</td>\n",
       "      <td>0.009561</td>\n",
       "      <td>0.156027</td>\n",
       "      <td>0.730042</td>\n",
       "      <td>0.0</td>\n",
       "      <td>0.149121</td>\n",
       "      <td>0.006837</td>\n",
       "    </tr>\n",
       "  </tbody>\n",
       "</table>\n",
       "<p>5 rows × 22 columns</p>\n",
       "</div>"
      ],
      "text/plain": [
       "      ITEST_id  AveCorrect            skill  problemId  actionId  timeTaken  \\\n",
       "2484        64    0.334038  pattern-finding  104051191     51609       18.0   \n",
       "2485        64    0.334038  pattern-finding  104051192     51610       13.0   \n",
       "2486        64    0.334038  pattern-finding  104051193     51611       12.0   \n",
       "2487        64    0.334038  pattern-finding  104051194     51612       51.0   \n",
       "2496        64    0.334038  pattern-finding  104051191     51621       49.0   \n",
       "\n",
       "      attemptCount  correct  consecutiveErrorsInRow  hint     ...      \\\n",
       "2484             1        1                       0     0     ...       \n",
       "2485             1        1                       0     0     ...       \n",
       "2486             1        1                       0     0     ...       \n",
       "2487             1        1                       0     0     ...       \n",
       "2496             2        1                       0     0     ...       \n",
       "\n",
       "      frIsHelpRequest  totalFrPercentPastWrong  frPast5WrongCount  \\\n",
       "2484                1                      0.0                  0   \n",
       "2485                1                      0.0                  0   \n",
       "2486                1                      0.0                  0   \n",
       "2487                1                      0.0                  0   \n",
       "2496                0                      0.0                  0   \n",
       "\n",
       "      frPast8WrongCount  RES_FRUSTRATED  RES_BORED  RES_CONCENTRATING  \\\n",
       "2484                  0        0.009561   0.156027           0.916790   \n",
       "2485                  0        0.009561   0.156027           0.926868   \n",
       "2486                  0        0.009561   0.156027           0.937398   \n",
       "2487                  0        0.009561   0.156027           0.810068   \n",
       "2496                  0        0.009561   0.156027           0.730042   \n",
       "\n",
       "      RES_CONFUSED  RES_OFFTASK  RES_GAMING  \n",
       "2484           0.0     0.468252    0.002815  \n",
       "2485           0.0     0.468252    0.001483  \n",
       "2486           0.0     0.468252    0.001483  \n",
       "2487           0.0     0.149121    0.001483  \n",
       "2496           0.0     0.149121    0.006837  \n",
       "\n",
       "[5 rows x 22 columns]"
      ]
     },
     "execution_count": 3,
     "metadata": {},
     "output_type": "execute_result"
    }
   ],
   "source": [
    "df.head()"
   ]
  },
  {
   "cell_type": "code",
   "execution_count": 6,
   "metadata": {},
   "outputs": [],
   "source": [
    "# basic stats"
   ]
  },
  {
   "cell_type": "code",
   "execution_count": 4,
   "metadata": {
    "scrolled": true
   },
   "outputs": [
    {
     "data": {
      "text/plain": [
       "668"
      ]
     },
     "execution_count": 4,
     "metadata": {},
     "output_type": "execute_result"
    }
   ],
   "source": [
    "num_samples = len(df.ITEST_id.unique())\n",
    "num_samples"
   ]
  },
  {
   "cell_type": "code",
   "execution_count": 5,
   "metadata": {},
   "outputs": [
    {
     "data": {
      "text/plain": [
       "1410"
      ]
     },
     "execution_count": 5,
     "metadata": {},
     "output_type": "execute_result"
    }
   ],
   "source": [
    "num_problems = len(df.problemId.unique())\n",
    "num_problems # number of difficult problems"
   ]
  },
  {
   "cell_type": "code",
   "execution_count": 9,
   "metadata": {},
   "outputs": [],
   "source": [
    "df_correct_only = df.loc[df.correct==1]"
   ]
  },
  {
   "cell_type": "code",
   "execution_count": 10,
   "metadata": {},
   "outputs": [
    {
     "name": "stdout",
     "output_type": "stream",
     "text": [
      "             index     ITEST_id\n",
      "count  1410.000000  1410.000000\n",
      "mean     52.068794    52.068794\n",
      "std      47.618012    47.618012\n",
      "min       1.000000     1.000000\n",
      "25%      25.000000    25.000000\n",
      "50%      37.500000    37.500000\n",
      "75%      57.000000    57.000000\n",
      "max     263.000000   263.000000\n"
     ]
    }
   ],
   "source": [
    "# Distribution of attemptCounts of each problem\n",
    "df.groupby(['problemId'])['attemptCount'].describe()\n",
    "x = df.loc[:,['problemId','ITEST_id']].drop_duplicates().reset_index().groupby('problemId').count().describe()\n",
    "print(x)\n",
    "# 1403 rows, which means there are 7 of these difficult questions has never been correctly answered"
   ]
  },
  {
   "cell_type": "code",
   "execution_count": 28,
   "metadata": {},
   "outputs": [
    {
     "data": {
      "text/plain": [
       "count    154515.000000\n",
       "mean          1.998945\n",
       "std           1.530975\n",
       "min           1.000000\n",
       "25%           1.000000\n",
       "50%           1.000000\n",
       "75%           3.000000\n",
       "max          38.000000\n",
       "Name: attemptCount, dtype: float64"
      ]
     },
     "execution_count": 28,
     "metadata": {},
     "output_type": "execute_result"
    }
   ],
   "source": [
    "df['attemptCount'].describe()"
   ]
  },
  {
   "cell_type": "code",
   "execution_count": 11,
   "metadata": {
    "scrolled": false
   },
   "outputs": [
    {
     "data": {
      "text/plain": [
       "count    154515.000000\n",
       "mean          0.692269\n",
       "std           0.854414\n",
       "min           0.000000\n",
       "25%           0.000000\n",
       "50%           1.000000\n",
       "75%           1.000000\n",
       "max           5.000000\n",
       "Name: frPast5WrongCount, dtype: float64"
      ]
     },
     "execution_count": 11,
     "metadata": {},
     "output_type": "execute_result"
    }
   ],
   "source": [
    "# Distribution of frPast5WrongCount of each student-step\n",
    "df['frPast5WrongCount'].describe()"
   ]
  },
  {
   "cell_type": "code",
   "execution_count": 12,
   "metadata": {
    "scrolled": true
   },
   "outputs": [
    {
     "data": {
      "text/plain": [
       "count    154515.000000\n",
       "mean          0.131431\n",
       "std           0.671021\n",
       "min           0.000000\n",
       "25%           0.000000\n",
       "50%           0.000000\n",
       "75%           0.000000\n",
       "max          40.000000\n",
       "Name: consecutiveErrorsInRow, dtype: float64"
      ]
     },
     "execution_count": 12,
     "metadata": {},
     "output_type": "execute_result"
    }
   ],
   "source": [
    "df['consecutiveErrorsInRow'].describe() # not quite predictable"
   ]
  },
  {
   "cell_type": "code",
   "execution_count": 13,
   "metadata": {},
   "outputs": [
    {
     "data": {
      "text/plain": [
       "count    154515.000000\n",
       "mean          0.736860\n",
       "std           1.152348\n",
       "min           0.000000\n",
       "25%           0.000000\n",
       "50%           0.000000\n",
       "75%           1.000000\n",
       "max          25.000000\n",
       "Name: hintCount, dtype: float64"
      ]
     },
     "execution_count": 13,
     "metadata": {},
     "output_type": "execute_result"
    }
   ],
   "source": [
    "# number of hints requested for this problem so far at this step\n",
    "df['hintCount'].describe() "
   ]
  },
  {
   "cell_type": "code",
   "execution_count": 14,
   "metadata": {},
   "outputs": [],
   "source": [
    "# rules:\n",
    "# 0. start by 0\n",
    "# 1. when they have more than normal (over 75% quantile) attempt counts over this question by this step, lift by 1 state\n",
    "# 2. when they have made more than 2 wrong responses in the last 5 first responses, they still attempt, lift by 1 state\n",
    "# ~(not used) 3. when they skip a problem in less than normal attempt counts (less than 50% quantile), they are less resilient, drop by 2 states\n",
    "# 4. when they ask for hint in less than normal attempt counts (less than 50% quantile), they are less resilient, drop by 1 state"
   ]
  },
  {
   "cell_type": "code",
   "execution_count": 15,
   "metadata": {},
   "outputs": [],
   "source": [
    "problem_dist = df_correct_only.groupby(['problemId'])['attemptCount'].describe()\n",
    "#problem_dist\n",
    "# define such rule: at 75% quantile of attempts compared to other students in this problem\n",
    "resilient_rule_attempt_thresholds = {pid:problem_dist.loc[pid]['75%'] for pid in problem_dist.index}\n",
    "resilient_rule_attempt_thresholds2 = {pid:problem_dist.loc[pid]['50%'] for pid in problem_dist.index}\n",
    "#problem_dist.loc[3]['50%']"
   ]
  },
  {
   "cell_type": "code",
   "execution_count": 16,
   "metadata": {},
   "outputs": [],
   "source": [
    "df = df.reset_index()"
   ]
  },
  {
   "cell_type": "code",
   "execution_count": 24,
   "metadata": {},
   "outputs": [
    {
     "name": "stdout",
     "output_type": "stream",
     "text": [
      "34585 never corrected answered by these students\n",
      "37323 never corrected answered by these students\n",
      "100554 never corrected answered by these students\n",
      "100628 never corrected answered by these students\n",
      "100712 never corrected answered by these students\n",
      "100721 never corrected answered by these students\n",
      "102262 never corrected answered by these students\n",
      "102278 never corrected answered by these students\n",
      "108880 never corrected answered by these students\n",
      "112532 never corrected answered by these students\n",
      "116181 never corrected answered by these students\n",
      "118880 never corrected answered by these students\n",
      "118903 never corrected answered by these students\n",
      "118909 never corrected answered by these students\n",
      "119049 never corrected answered by these students\n",
      "119657 never corrected answered by these students\n",
      "120526 never corrected answered by these students\n",
      "121316 never corrected answered by these students\n",
      "121326 never corrected answered by these students\n",
      "121343 never corrected answered by these students\n",
      "122857 never corrected answered by these students\n",
      "125226 never corrected answered by these students\n",
      "129562 never corrected answered by these students\n",
      "141754 never corrected answered by these students\n",
      "148839 never corrected answered by these students\n"
     ]
    }
   ],
   "source": [
    "df['res_level'] = [0]*len(df)\n",
    "df['skip'] = [0]*len(df)\n",
    "for i,row in df.iterrows():\n",
    "    res_level = df.loc[i,'res_level']\n",
    "    try:\n",
    "        if i<len(df)-1:\n",
    "            if df.loc[i,'correct']==0 and i<len(df) and df.loc[i+1,'problemId']!=df.loc[i,'problemId'] and df.loc[i,'ITEST_id']==df.loc[i+1,'ITEST_id']:\n",
    "                #res_level -=1\n",
    "                df.at[i,'skip']=1\n",
    "        if row.attemptCount >= resilient_rule_attempt_thresholds[row.problemId]:\n",
    "            res_level +=1 \n",
    "        if row.frPast5WrongCount >= 2:\n",
    "            res_level+=1\n",
    "            if row.frPast5WrongCount > 3:\n",
    "                res_level+=1\n",
    "        if row.hint==1:\n",
    "            res_level -=1\n",
    "        df.at[i,'res_level'] = res_level\n",
    "    except KeyError:\n",
    "        print(i,'never corrected answered by these students')"
   ]
  },
  {
   "cell_type": "code",
   "execution_count": 25,
   "metadata": {
    "scrolled": true
   },
   "outputs": [
    {
     "data": {
      "text/html": [
       "<div>\n",
       "<style scoped>\n",
       "    .dataframe tbody tr th:only-of-type {\n",
       "        vertical-align: middle;\n",
       "    }\n",
       "\n",
       "    .dataframe tbody tr th {\n",
       "        vertical-align: top;\n",
       "    }\n",
       "\n",
       "    .dataframe thead th {\n",
       "        text-align: right;\n",
       "    }\n",
       "</style>\n",
       "<table border=\"1\" class=\"dataframe\">\n",
       "  <thead>\n",
       "    <tr style=\"text-align: right;\">\n",
       "      <th></th>\n",
       "      <th>level_0</th>\n",
       "      <th>index</th>\n",
       "      <th>ITEST_id</th>\n",
       "      <th>AveCorrect</th>\n",
       "      <th>skill</th>\n",
       "      <th>problemId</th>\n",
       "      <th>actionId</th>\n",
       "      <th>timeTaken</th>\n",
       "      <th>attemptCount</th>\n",
       "      <th>correct</th>\n",
       "      <th>...</th>\n",
       "      <th>frPast5WrongCount</th>\n",
       "      <th>frPast8WrongCount</th>\n",
       "      <th>RES_FRUSTRATED</th>\n",
       "      <th>RES_BORED</th>\n",
       "      <th>RES_CONCENTRATING</th>\n",
       "      <th>RES_CONFUSED</th>\n",
       "      <th>RES_OFFTASK</th>\n",
       "      <th>RES_GAMING</th>\n",
       "      <th>res_level</th>\n",
       "      <th>skip</th>\n",
       "    </tr>\n",
       "  </thead>\n",
       "  <tbody>\n",
       "    <tr>\n",
       "      <th>0</th>\n",
       "      <td>0</td>\n",
       "      <td>2484</td>\n",
       "      <td>64</td>\n",
       "      <td>0.334038</td>\n",
       "      <td>pattern-finding</td>\n",
       "      <td>104051191</td>\n",
       "      <td>51609</td>\n",
       "      <td>18.0</td>\n",
       "      <td>1</td>\n",
       "      <td>1</td>\n",
       "      <td>...</td>\n",
       "      <td>0</td>\n",
       "      <td>0</td>\n",
       "      <td>0.009561</td>\n",
       "      <td>0.156027</td>\n",
       "      <td>0.916790</td>\n",
       "      <td>0.0</td>\n",
       "      <td>0.468252</td>\n",
       "      <td>0.002815</td>\n",
       "      <td>0</td>\n",
       "      <td>0</td>\n",
       "    </tr>\n",
       "    <tr>\n",
       "      <th>1</th>\n",
       "      <td>1</td>\n",
       "      <td>2485</td>\n",
       "      <td>64</td>\n",
       "      <td>0.334038</td>\n",
       "      <td>pattern-finding</td>\n",
       "      <td>104051192</td>\n",
       "      <td>51610</td>\n",
       "      <td>13.0</td>\n",
       "      <td>1</td>\n",
       "      <td>1</td>\n",
       "      <td>...</td>\n",
       "      <td>0</td>\n",
       "      <td>0</td>\n",
       "      <td>0.009561</td>\n",
       "      <td>0.156027</td>\n",
       "      <td>0.926868</td>\n",
       "      <td>0.0</td>\n",
       "      <td>0.468252</td>\n",
       "      <td>0.001483</td>\n",
       "      <td>0</td>\n",
       "      <td>0</td>\n",
       "    </tr>\n",
       "    <tr>\n",
       "      <th>2</th>\n",
       "      <td>2</td>\n",
       "      <td>2486</td>\n",
       "      <td>64</td>\n",
       "      <td>0.334038</td>\n",
       "      <td>pattern-finding</td>\n",
       "      <td>104051193</td>\n",
       "      <td>51611</td>\n",
       "      <td>12.0</td>\n",
       "      <td>1</td>\n",
       "      <td>1</td>\n",
       "      <td>...</td>\n",
       "      <td>0</td>\n",
       "      <td>0</td>\n",
       "      <td>0.009561</td>\n",
       "      <td>0.156027</td>\n",
       "      <td>0.937398</td>\n",
       "      <td>0.0</td>\n",
       "      <td>0.468252</td>\n",
       "      <td>0.001483</td>\n",
       "      <td>0</td>\n",
       "      <td>0</td>\n",
       "    </tr>\n",
       "    <tr>\n",
       "      <th>3</th>\n",
       "      <td>3</td>\n",
       "      <td>2487</td>\n",
       "      <td>64</td>\n",
       "      <td>0.334038</td>\n",
       "      <td>pattern-finding</td>\n",
       "      <td>104051194</td>\n",
       "      <td>51612</td>\n",
       "      <td>51.0</td>\n",
       "      <td>1</td>\n",
       "      <td>1</td>\n",
       "      <td>...</td>\n",
       "      <td>0</td>\n",
       "      <td>0</td>\n",
       "      <td>0.009561</td>\n",
       "      <td>0.156027</td>\n",
       "      <td>0.810068</td>\n",
       "      <td>0.0</td>\n",
       "      <td>0.149121</td>\n",
       "      <td>0.001483</td>\n",
       "      <td>0</td>\n",
       "      <td>0</td>\n",
       "    </tr>\n",
       "    <tr>\n",
       "      <th>4</th>\n",
       "      <td>4</td>\n",
       "      <td>2496</td>\n",
       "      <td>64</td>\n",
       "      <td>0.334038</td>\n",
       "      <td>pattern-finding</td>\n",
       "      <td>104051191</td>\n",
       "      <td>51621</td>\n",
       "      <td>49.0</td>\n",
       "      <td>2</td>\n",
       "      <td>1</td>\n",
       "      <td>...</td>\n",
       "      <td>0</td>\n",
       "      <td>0</td>\n",
       "      <td>0.009561</td>\n",
       "      <td>0.156027</td>\n",
       "      <td>0.730042</td>\n",
       "      <td>0.0</td>\n",
       "      <td>0.149121</td>\n",
       "      <td>0.006837</td>\n",
       "      <td>0</td>\n",
       "      <td>0</td>\n",
       "    </tr>\n",
       "  </tbody>\n",
       "</table>\n",
       "<p>5 rows × 26 columns</p>\n",
       "</div>"
      ],
      "text/plain": [
       "   level_0  index  ITEST_id  AveCorrect            skill  problemId  actionId  \\\n",
       "0        0   2484        64    0.334038  pattern-finding  104051191     51609   \n",
       "1        1   2485        64    0.334038  pattern-finding  104051192     51610   \n",
       "2        2   2486        64    0.334038  pattern-finding  104051193     51611   \n",
       "3        3   2487        64    0.334038  pattern-finding  104051194     51612   \n",
       "4        4   2496        64    0.334038  pattern-finding  104051191     51621   \n",
       "\n",
       "   timeTaken  attemptCount  correct  ...   frPast5WrongCount  \\\n",
       "0       18.0             1        1  ...                   0   \n",
       "1       13.0             1        1  ...                   0   \n",
       "2       12.0             1        1  ...                   0   \n",
       "3       51.0             1        1  ...                   0   \n",
       "4       49.0             2        1  ...                   0   \n",
       "\n",
       "   frPast8WrongCount  RES_FRUSTRATED  RES_BORED  RES_CONCENTRATING  \\\n",
       "0                  0        0.009561   0.156027           0.916790   \n",
       "1                  0        0.009561   0.156027           0.926868   \n",
       "2                  0        0.009561   0.156027           0.937398   \n",
       "3                  0        0.009561   0.156027           0.810068   \n",
       "4                  0        0.009561   0.156027           0.730042   \n",
       "\n",
       "   RES_CONFUSED  RES_OFFTASK  RES_GAMING  res_level  skip  \n",
       "0           0.0     0.468252    0.002815          0     0  \n",
       "1           0.0     0.468252    0.001483          0     0  \n",
       "2           0.0     0.468252    0.001483          0     0  \n",
       "3           0.0     0.149121    0.001483          0     0  \n",
       "4           0.0     0.149121    0.006837          0     0  \n",
       "\n",
       "[5 rows x 26 columns]"
      ]
     },
     "execution_count": 25,
     "metadata": {},
     "output_type": "execute_result"
    }
   ],
   "source": [
    "df.head()"
   ]
  },
  {
   "cell_type": "code",
   "execution_count": 26,
   "metadata": {},
   "outputs": [
    {
     "data": {
      "text/plain": [
       " 0    66388\n",
       " 1    52960\n",
       "-1    27592\n",
       " 2     7022\n",
       " 3      553\n",
       "Name: res_level, dtype: int64"
      ]
     },
     "execution_count": 26,
     "metadata": {},
     "output_type": "execute_result"
    }
   ],
   "source": [
    "df.res_level.value_counts()"
   ]
  },
  {
   "cell_type": "code",
   "execution_count": 19,
   "metadata": {},
   "outputs": [],
   "source": [
    "df = df.reset_index()"
   ]
  },
  {
   "cell_type": "code",
   "execution_count": 34,
   "metadata": {},
   "outputs": [],
   "source": [
    "df_sample = df.loc[df.ITEST_id==418].rename(columns={\"index\": \"old_index\"})\n",
    "df_sample.reset_index(drop=True,inplace=True)\n",
    "df_sample = df_sample.reset_index()"
   ]
  },
  {
   "cell_type": "code",
   "execution_count": 35,
   "metadata": {},
   "outputs": [
    {
     "data": {
      "text/plain": [
       "<matplotlib.axes._subplots.AxesSubplot at 0x1a235e9ba8>"
      ]
     },
     "execution_count": 35,
     "metadata": {},
     "output_type": "execute_result"
    },
    {
     "data": {
      "image/png": "[encoded data removed]",
      "text/plain": [
       "<Figure size 432x288 with 1 Axes>"
      ]
     },
     "metadata": {
      "needs_background": "light"
     },
     "output_type": "display_data"
    }
   ],
   "source": [
    "sns.lineplot(x='index',y='RES_FRUSTRATED',data=df_sample)"
   ]
  },
  {
   "cell_type": "code",
   "execution_count": 36,
   "metadata": {},
   "outputs": [
    {
     "data": {
      "text/plain": [
       "<matplotlib.axes._subplots.AxesSubplot at 0x1a29e813c8>"
      ]
     },
     "execution_count": 36,
     "metadata": {},
     "output_type": "execute_result"
    },
    {
     "data": {
      "image/png": "[encoded data removed]",
      "text/plain": [
       "<Figure size 432x288 with 1 Axes>"
      ]
     },
     "metadata": {
      "needs_background": "light"
     },
     "output_type": "display_data"
    }
   ],
   "source": [
    "sns.lineplot(x='index',y='res_level',data=df_sample)"
   ]
  },
  {
   "cell_type": "code",
   "execution_count": 25,
   "metadata": {},
   "outputs": [],
   "source": [
    "sids = df.ITEST_id.unique()\n",
    "lengths = []\n",
    "for sid in sids:\n",
    "    lengths.append(len(df.loc[df.ITEST_id==sid]))\n",
    "sl = {sids[i]:lengths[i] for i in range(len(sids))}"
   ]
  },
  {
   "cell_type": "code",
   "execution_count": 26,
   "metadata": {},
   "outputs": [],
   "source": [
    "def agreement_measure(x,y):\n",
    "    x = np.interp(x, (x.min(), x.max()), (-1, +1))\n",
    "    #y = np.interp(y, (y.min(), y.max()), (-1, +1)) # y is already a rescaled value\n",
    "    return euclidean(x,y)/len(x)"
   ]
  },
  {
   "cell_type": "code",
   "execution_count": 30,
   "metadata": {},
   "outputs": [
    {
     "name": "stdout",
     "output_type": "stream",
     "text": [
      "0.058806699007146336\n"
     ]
    }
   ],
   "source": [
    "avg_agree = []\n",
    "for sid in sids:\n",
    "    df_sample = df.loc[df.ITEST_id==sid].rename(columns={\"index\": \"old_index\"})\n",
    "    df_sample.reset_index(drop=True,inplace=True)\n",
    "    df_sample = df_sample.reset_index()\n",
    "    agree = agreement_measure(df_sample.res_level.values,df_sample.RES_FRUSTRATED.values)\n",
    "    #print(sid, agree)\n",
    "    avg_agree.append(agree)\n",
    "print(np.sum(avg_agree)/len(sids))"
   ]
  },
  {
   "cell_type": "code",
   "execution_count": 27,
   "metadata": {},
   "outputs": [],
   "source": [
    "with open('rule_res_model_new.pickle','wb') as f:\n",
    "    pickle.dump(df,f)"
   ]
  },
  {
   "cell_type": "code",
   "execution_count": 23,
   "metadata": {},
   "outputs": [
    {
     "data": {
      "text/html": [
       "<div>\n",
       "<style scoped>\n",
       "    .dataframe tbody tr th:only-of-type {\n",
       "        vertical-align: middle;\n",
       "    }\n",
       "\n",
       "    .dataframe tbody tr th {\n",
       "        vertical-align: top;\n",
       "    }\n",
       "\n",
       "    .dataframe thead th {\n",
       "        text-align: right;\n",
       "    }\n",
       "</style>\n",
       "<table border=\"1\" class=\"dataframe\">\n",
       "  <thead>\n",
       "    <tr style=\"text-align: right;\">\n",
       "      <th></th>\n",
       "      <th>level_0</th>\n",
       "      <th>index</th>\n",
       "      <th>ITEST_id</th>\n",
       "      <th>AveCorrect</th>\n",
       "      <th>skill</th>\n",
       "      <th>problemId</th>\n",
       "      <th>actionId</th>\n",
       "      <th>timeTaken</th>\n",
       "      <th>attemptCount</th>\n",
       "      <th>correct</th>\n",
       "      <th>...</th>\n",
       "      <th>frPast5WrongCount</th>\n",
       "      <th>frPast8WrongCount</th>\n",
       "      <th>RES_FRUSTRATED</th>\n",
       "      <th>RES_BORED</th>\n",
       "      <th>RES_CONCENTRATING</th>\n",
       "      <th>RES_CONFUSED</th>\n",
       "      <th>RES_OFFTASK</th>\n",
       "      <th>RES_GAMING</th>\n",
       "      <th>res_level</th>\n",
       "      <th>skip</th>\n",
       "    </tr>\n",
       "  </thead>\n",
       "  <tbody>\n",
       "    <tr>\n",
       "      <th>0</th>\n",
       "      <td>0</td>\n",
       "      <td>2484</td>\n",
       "      <td>64</td>\n",
       "      <td>0.334038</td>\n",
       "      <td>pattern-finding</td>\n",
       "      <td>104051191</td>\n",
       "      <td>51609</td>\n",
       "      <td>18.0</td>\n",
       "      <td>1</td>\n",
       "      <td>1</td>\n",
       "      <td>...</td>\n",
       "      <td>0</td>\n",
       "      <td>0</td>\n",
       "      <td>0.009561</td>\n",
       "      <td>0.156027</td>\n",
       "      <td>0.916790</td>\n",
       "      <td>0.0</td>\n",
       "      <td>0.468252</td>\n",
       "      <td>0.002815</td>\n",
       "      <td>0</td>\n",
       "      <td>0</td>\n",
       "    </tr>\n",
       "    <tr>\n",
       "      <th>1</th>\n",
       "      <td>1</td>\n",
       "      <td>2485</td>\n",
       "      <td>64</td>\n",
       "      <td>0.334038</td>\n",
       "      <td>pattern-finding</td>\n",
       "      <td>104051192</td>\n",
       "      <td>51610</td>\n",
       "      <td>13.0</td>\n",
       "      <td>1</td>\n",
       "      <td>1</td>\n",
       "      <td>...</td>\n",
       "      <td>0</td>\n",
       "      <td>0</td>\n",
       "      <td>0.009561</td>\n",
       "      <td>0.156027</td>\n",
       "      <td>0.926868</td>\n",
       "      <td>0.0</td>\n",
       "      <td>0.468252</td>\n",
       "      <td>0.001483</td>\n",
       "      <td>0</td>\n",
       "      <td>0</td>\n",
       "    </tr>\n",
       "    <tr>\n",
       "      <th>2</th>\n",
       "      <td>2</td>\n",
       "      <td>2486</td>\n",
       "      <td>64</td>\n",
       "      <td>0.334038</td>\n",
       "      <td>pattern-finding</td>\n",
       "      <td>104051193</td>\n",
       "      <td>51611</td>\n",
       "      <td>12.0</td>\n",
       "      <td>1</td>\n",
       "      <td>1</td>\n",
       "      <td>...</td>\n",
       "      <td>0</td>\n",
       "      <td>0</td>\n",
       "      <td>0.009561</td>\n",
       "      <td>0.156027</td>\n",
       "      <td>0.937398</td>\n",
       "      <td>0.0</td>\n",
       "      <td>0.468252</td>\n",
       "      <td>0.001483</td>\n",
       "      <td>0</td>\n",
       "      <td>0</td>\n",
       "    </tr>\n",
       "    <tr>\n",
       "      <th>3</th>\n",
       "      <td>3</td>\n",
       "      <td>2487</td>\n",
       "      <td>64</td>\n",
       "      <td>0.334038</td>\n",
       "      <td>pattern-finding</td>\n",
       "      <td>104051194</td>\n",
       "      <td>51612</td>\n",
       "      <td>51.0</td>\n",
       "      <td>1</td>\n",
       "      <td>1</td>\n",
       "      <td>...</td>\n",
       "      <td>0</td>\n",
       "      <td>0</td>\n",
       "      <td>0.009561</td>\n",
       "      <td>0.156027</td>\n",
       "      <td>0.810068</td>\n",
       "      <td>0.0</td>\n",
       "      <td>0.149121</td>\n",
       "      <td>0.001483</td>\n",
       "      <td>0</td>\n",
       "      <td>0</td>\n",
       "    </tr>\n",
       "    <tr>\n",
       "      <th>4</th>\n",
       "      <td>4</td>\n",
       "      <td>2496</td>\n",
       "      <td>64</td>\n",
       "      <td>0.334038</td>\n",
       "      <td>pattern-finding</td>\n",
       "      <td>104051191</td>\n",
       "      <td>51621</td>\n",
       "      <td>49.0</td>\n",
       "      <td>2</td>\n",
       "      <td>1</td>\n",
       "      <td>...</td>\n",
       "      <td>0</td>\n",
       "      <td>0</td>\n",
       "      <td>0.009561</td>\n",
       "      <td>0.156027</td>\n",
       "      <td>0.730042</td>\n",
       "      <td>0.0</td>\n",
       "      <td>0.149121</td>\n",
       "      <td>0.006837</td>\n",
       "      <td>0</td>\n",
       "      <td>0</td>\n",
       "    </tr>\n",
       "  </tbody>\n",
       "</table>\n",
       "<p>5 rows × 26 columns</p>\n",
       "</div>"
      ],
      "text/plain": [
       "   level_0  index  ITEST_id  AveCorrect            skill  problemId  actionId  \\\n",
       "0        0   2484        64    0.334038  pattern-finding  104051191     51609   \n",
       "1        1   2485        64    0.334038  pattern-finding  104051192     51610   \n",
       "2        2   2486        64    0.334038  pattern-finding  104051193     51611   \n",
       "3        3   2487        64    0.334038  pattern-finding  104051194     51612   \n",
       "4        4   2496        64    0.334038  pattern-finding  104051191     51621   \n",
       "\n",
       "   timeTaken  attemptCount  correct  ...   frPast5WrongCount  \\\n",
       "0       18.0             1        1  ...                   0   \n",
       "1       13.0             1        1  ...                   0   \n",
       "2       12.0             1        1  ...                   0   \n",
       "3       51.0             1        1  ...                   0   \n",
       "4       49.0             2        1  ...                   0   \n",
       "\n",
       "   frPast8WrongCount  RES_FRUSTRATED  RES_BORED  RES_CONCENTRATING  \\\n",
       "0                  0        0.009561   0.156027           0.916790   \n",
       "1                  0        0.009561   0.156027           0.926868   \n",
       "2                  0        0.009561   0.156027           0.937398   \n",
       "3                  0        0.009561   0.156027           0.810068   \n",
       "4                  0        0.009561   0.156027           0.730042   \n",
       "\n",
       "   RES_CONFUSED  RES_OFFTASK  RES_GAMING  res_level  skip  \n",
       "0           0.0     0.468252    0.002815          0     0  \n",
       "1           0.0     0.468252    0.001483          0     0  \n",
       "2           0.0     0.468252    0.001483          0     0  \n",
       "3           0.0     0.149121    0.001483          0     0  \n",
       "4           0.0     0.149121    0.006837          0     0  \n",
       "\n",
       "[5 rows x 26 columns]"
      ]
     },
     "execution_count": 23,
     "metadata": {},
     "output_type": "execute_result"
    }
   ],
   "source": [
    "df.head()"
   ]
  },
  {
   "cell_type": "code",
   "execution_count": null,
   "metadata": {},
   "outputs": [],
   "source": []
  }
 ],
 "metadata": {
  "kernelspec": {
   "display_name": "Python 3",
   "language": "python",
   "name": "python3"
  },
  "language_info": {
   "codemirror_mode": {
    "name": "ipython",
    "version": 3
   },
   "file_extension": ".py",
   "mimetype": "text/x-python",
   "name": "python",
   "nbconvert_exporter": "python",
   "pygments_lexer": "ipython3",
   "version": "3.7.2"
  }
 },
 "nbformat": 4,
 "nbformat_minor": 2
}
