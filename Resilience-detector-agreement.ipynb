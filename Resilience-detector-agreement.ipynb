{
 "cells": [
  {
   "cell_type": "code",
   "execution_count": 1,
   "metadata": {},
   "outputs": [],
   "source": [
    "import numpy as np\n",
    "import pandas as pd\n",
    "from datetime import date, datetime\n",
    "import matplotlib.pyplot as plt\n",
    "import seaborn as sns\n",
    "from sklearn.model_selection import train_test_split,KFold, cross_val_score\n",
    "from sklearn import metrics\n",
    "from sklearn.metrics import roc_auc_score, cohen_kappa_score\n",
    "import pickle\n",
    "from scipy import stats\n",
    "import pylab\n",
    "from sklearn.linear_model import LogisticRegression\n",
    "\n",
    "from scipy.stats import t, ttest_ind, ttest_ind_from_stats, norm\n",
    "from scipy.special import stdtr\n",
    "import statsmodels.api as sm\n",
    "\n",
    "import pylab\n",
    "from scipy.stats import pearsonr\n",
    "from scipy.spatial.distance import euclidean"
   ]
  },
  {
   "cell_type": "code",
   "execution_count": 2,
   "metadata": {},
   "outputs": [],
   "source": [
    "with open('hmm_res_model.pickle','rb') as f:\n",
    "    df_hmm = pickle.load(f)\n",
    "with open('rule_res_model.pickle','rb') as f:\n",
    "    df_rule = pickle.load(f)"
   ]
  },
  {
   "cell_type": "code",
   "execution_count": 7,
   "metadata": {},
   "outputs": [],
   "source": [
    "def euclidean_measure(x,y):\n",
    "    x = np.interp(x, (x.min(), x.max()), (-1, +1))\n",
    "    y = np.interp(y, (y.min(), y.max()), (-1, +1))\n",
    "    return euclidean(x,y)/len(x)"
   ]
  },
  {
   "cell_type": "code",
   "execution_count": 8,
   "metadata": {},
   "outputs": [
    {
     "data": {
      "text/plain": [
       "0.0037352511056839162"
      ]
     },
     "execution_count": 8,
     "metadata": {},
     "output_type": "execute_result"
    }
   ],
   "source": [
    "euclidean_measure(df_hmm.hidden_res_level.values, df_rule.res_level.values)"
   ]
  }
 ],
 "metadata": {
  "kernelspec": {
   "display_name": "Python 3",
   "language": "python",
   "name": "python3"
  },
  "language_info": {
   "codemirror_mode": {
    "name": "ipython",
    "version": 3
   },
   "file_extension": ".py",
   "mimetype": "text/x-python",
   "name": "python",
   "nbconvert_exporter": "python",
   "pygments_lexer": "ipython3",
   "version": "3.7.2"
  }
 },
 "nbformat": 4,
 "nbformat_minor": 2
}
